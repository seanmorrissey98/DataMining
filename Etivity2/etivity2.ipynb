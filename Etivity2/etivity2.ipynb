{
 "cells": [
  {
   "cell_type": "markdown",
   "metadata": {},
   "source": [
    "# Etivity 2: _Data Preparation_\n",
    "**Student Name**: _Sean Morrissey_\n",
    "\n",
    "**Student ID**: _17222761_"
   ]
  },
  {
   "cell_type": "markdown",
   "metadata": {},
   "source": [
    "The next step after **Exploratory Data Analysis** is to do **Data Preparation** to prepare the data for the next stages in machine learning and classification. In order to get our data ready we must:\n",
    "- Encode all categorical attributes as numerical.\n",
    "- Fill in all missing values in the dataset.\n",
    "- Apply scalers to rescale our data.\n",
    "- Treat outliers using various methods.\n",
    "- The creation of newly derived features, formed from the current feature set.\n",
    "\n",
    "Once all the steps of **data preparation** are complete it results in the creation of a new dataset (csv in this case) which we can use further."
   ]
  },
  {
   "cell_type": "markdown",
   "metadata": {},
   "source": [
    "## Imports & Dataset Setup"
   ]
  },
  {
   "cell_type": "code",
   "execution_count": 199,
   "metadata": {},
   "outputs": [],
   "source": [
    "# Import required packages\n",
    "import pandas as pd\n",
    "import numpy as np\n",
    "from sklearn.preprocessing import RobustScaler\n",
    "from sklearn.preprocessing import StandardScaler\n",
    "import matplotlib.pyplot as plt\n",
    "import seaborn as sns\n",
    "%matplotlib inline"
   ]
  },
  {
   "cell_type": "code",
   "execution_count": 200,
   "metadata": {},
   "outputs": [],
   "source": [
    "# Read in the dataset into a pandas dataframe\n",
    "df = pd.read_csv('./bank.csv')"
   ]
  },
  {
   "cell_type": "code",
   "execution_count": 201,
   "metadata": {
    "scrolled": true
   },
   "outputs": [
    {
     "data": {
      "text/html": [
       "<div>\n",
       "<style scoped>\n",
       "    .dataframe tbody tr th:only-of-type {\n",
       "        vertical-align: middle;\n",
       "    }\n",
       "\n",
       "    .dataframe tbody tr th {\n",
       "        vertical-align: top;\n",
       "    }\n",
       "\n",
       "    .dataframe thead th {\n",
       "        text-align: right;\n",
       "    }\n",
       "</style>\n",
       "<table border=\"1\" class=\"dataframe\">\n",
       "  <thead>\n",
       "    <tr style=\"text-align: right;\">\n",
       "      <th></th>\n",
       "      <th>age</th>\n",
       "      <th>job</th>\n",
       "      <th>marital</th>\n",
       "      <th>education</th>\n",
       "      <th>default</th>\n",
       "      <th>balance</th>\n",
       "      <th>housing</th>\n",
       "      <th>loan</th>\n",
       "      <th>contact</th>\n",
       "      <th>day</th>\n",
       "      <th>month</th>\n",
       "      <th>duration</th>\n",
       "      <th>campaign</th>\n",
       "      <th>pdays</th>\n",
       "      <th>previous</th>\n",
       "      <th>poutcome</th>\n",
       "      <th>subscribed</th>\n",
       "    </tr>\n",
       "  </thead>\n",
       "  <tbody>\n",
       "    <tr>\n",
       "      <th>1995</th>\n",
       "      <td>20.0</td>\n",
       "      <td>student</td>\n",
       "      <td>single</td>\n",
       "      <td>NaN</td>\n",
       "      <td>no</td>\n",
       "      <td>2785</td>\n",
       "      <td>no</td>\n",
       "      <td>no</td>\n",
       "      <td>cellular</td>\n",
       "      <td>16</td>\n",
       "      <td>sep</td>\n",
       "      <td>327</td>\n",
       "      <td>2</td>\n",
       "      <td>-1</td>\n",
       "      <td>0</td>\n",
       "      <td>NaN</td>\n",
       "      <td>yes</td>\n",
       "    </tr>\n",
       "    <tr>\n",
       "      <th>1996</th>\n",
       "      <td>28.0</td>\n",
       "      <td>admin.</td>\n",
       "      <td>single</td>\n",
       "      <td>secondary</td>\n",
       "      <td>no</td>\n",
       "      <td>127</td>\n",
       "      <td>no</td>\n",
       "      <td>no</td>\n",
       "      <td>cellular</td>\n",
       "      <td>16</td>\n",
       "      <td>sep</td>\n",
       "      <td>1334</td>\n",
       "      <td>2</td>\n",
       "      <td>-1</td>\n",
       "      <td>0</td>\n",
       "      <td>NaN</td>\n",
       "      <td>yes</td>\n",
       "    </tr>\n",
       "    <tr>\n",
       "      <th>1997</th>\n",
       "      <td>81.0</td>\n",
       "      <td>retired</td>\n",
       "      <td>married</td>\n",
       "      <td>primary</td>\n",
       "      <td>no</td>\n",
       "      <td>1154</td>\n",
       "      <td>no</td>\n",
       "      <td>no</td>\n",
       "      <td>telephone</td>\n",
       "      <td>17</td>\n",
       "      <td>sep</td>\n",
       "      <td>231</td>\n",
       "      <td>1</td>\n",
       "      <td>-1</td>\n",
       "      <td>0</td>\n",
       "      <td>NaN</td>\n",
       "      <td>yes</td>\n",
       "    </tr>\n",
       "    <tr>\n",
       "      <th>1998</th>\n",
       "      <td>46.0</td>\n",
       "      <td>services</td>\n",
       "      <td>married</td>\n",
       "      <td>primary</td>\n",
       "      <td>no</td>\n",
       "      <td>4343</td>\n",
       "      <td>yes</td>\n",
       "      <td>no</td>\n",
       "      <td>NaN</td>\n",
       "      <td>20</td>\n",
       "      <td>sep</td>\n",
       "      <td>185</td>\n",
       "      <td>1</td>\n",
       "      <td>-1</td>\n",
       "      <td>0</td>\n",
       "      <td>NaN</td>\n",
       "      <td>yes</td>\n",
       "    </tr>\n",
       "    <tr>\n",
       "      <th>1999</th>\n",
       "      <td>40.0</td>\n",
       "      <td>entrepreneur</td>\n",
       "      <td>married</td>\n",
       "      <td>secondary</td>\n",
       "      <td>no</td>\n",
       "      <td>6403</td>\n",
       "      <td>no</td>\n",
       "      <td>no</td>\n",
       "      <td>cellular</td>\n",
       "      <td>22</td>\n",
       "      <td>sep</td>\n",
       "      <td>208</td>\n",
       "      <td>2</td>\n",
       "      <td>-1</td>\n",
       "      <td>0</td>\n",
       "      <td>NaN</td>\n",
       "      <td>yes</td>\n",
       "    </tr>\n",
       "  </tbody>\n",
       "</table>\n",
       "</div>"
      ],
      "text/plain": [
       "       age           job  marital  education default  balance housing loan  \\\n",
       "1995  20.0       student   single        NaN      no     2785      no   no   \n",
       "1996  28.0        admin.   single  secondary      no      127      no   no   \n",
       "1997  81.0       retired  married    primary      no     1154      no   no   \n",
       "1998  46.0      services  married    primary      no     4343     yes   no   \n",
       "1999  40.0  entrepreneur  married  secondary      no     6403      no   no   \n",
       "\n",
       "        contact  day month  duration  campaign  pdays  previous poutcome  \\\n",
       "1995   cellular   16   sep       327         2     -1         0      NaN   \n",
       "1996   cellular   16   sep      1334         2     -1         0      NaN   \n",
       "1997  telephone   17   sep       231         1     -1         0      NaN   \n",
       "1998        NaN   20   sep       185         1     -1         0      NaN   \n",
       "1999   cellular   22   sep       208         2     -1         0      NaN   \n",
       "\n",
       "     subscribed  \n",
       "1995        yes  \n",
       "1996        yes  \n",
       "1997        yes  \n",
       "1998        yes  \n",
       "1999        yes  "
      ]
     },
     "execution_count": 201,
     "metadata": {},
     "output_type": "execute_result"
    }
   ],
   "source": [
    "# Check the first 5 rows of the dataframe\n",
    "df.tail(5)"
   ]
  },
  {
   "cell_type": "code",
   "execution_count": 202,
   "metadata": {},
   "outputs": [
    {
     "data": {
      "text/plain": [
       "age            12\n",
       "job            10\n",
       "marital         0\n",
       "education     104\n",
       "default         0\n",
       "balance         0\n",
       "housing         0\n",
       "loan            0\n",
       "contact       191\n",
       "day             0\n",
       "month           0\n",
       "duration        0\n",
       "campaign        0\n",
       "pdays           0\n",
       "previous        0\n",
       "poutcome      454\n",
       "subscribed      0\n",
       "dtype: int64"
      ]
     },
     "execution_count": 202,
     "metadata": {},
     "output_type": "execute_result"
    }
   ],
   "source": [
    "# Check for missing values\n",
    "df.isna().sum()"
   ]
  },
  {
   "cell_type": "markdown",
   "metadata": {},
   "source": [
    "From the above statistics we can see that the largest attribute missing values is `poutcome`, followed by `contact`, `education`, `job` and `age`.\n",
    "\n",
    "The rest of the attributes of the dataset are complete and contain no missing values."
   ]
  },
  {
   "cell_type": "code",
   "execution_count": 204,
   "metadata": {},
   "outputs": [],
   "source": [
    "# Make a duplicate of the read in dataset to work on\n",
    "df_original = df"
   ]
  },
  {
   "cell_type": "markdown",
   "metadata": {},
   "source": [
    "## Part 1: Encoded All Categorical Attributes as Numerical"
   ]
  },
  {
   "cell_type": "markdown",
   "metadata": {},
   "source": [
    "Luckily, the dataset contains no \"`ID`\" fields or any irrelevant attributes which we need to drop from our dataset.\n",
    "\n",
    "However, over half of our dataset is categorical attributes which we will need to encode as numerical.\n",
    "- For ordinal encoding through the use of a mapper will be used to replace the data with numerical data.\n",
    "- For nominal data one-hot encoding will be used to replace the data with numerical data."
   ]
  },
  {
   "cell_type": "markdown",
   "metadata": {},
   "source": [
    "##### Encoding Ordinal data"
   ]
  },
  {
   "cell_type": "markdown",
   "metadata": {},
   "source": [
    "The only attribute of the dataset which can be considered a **ordinal** is `month` due to the months of the year following an order and so we will convert `month` to a numerical representation (1-12).\n",
    "\n",
    "But the months of the year can be considered cyclic data (December - 12, leads to January - 1) and so can the days of the week so we will create new attributes for the sin and cos of these attributes to better represent their relationships."
   ]
  },
  {
   "cell_type": "code",
   "execution_count": 205,
   "metadata": {},
   "outputs": [
    {
     "data": {
      "text/html": [
       "<div>\n",
       "<style scoped>\n",
       "    .dataframe tbody tr th:only-of-type {\n",
       "        vertical-align: middle;\n",
       "    }\n",
       "\n",
       "    .dataframe tbody tr th {\n",
       "        vertical-align: top;\n",
       "    }\n",
       "\n",
       "    .dataframe thead th {\n",
       "        text-align: right;\n",
       "    }\n",
       "</style>\n",
       "<table border=\"1\" class=\"dataframe\">\n",
       "  <thead>\n",
       "    <tr style=\"text-align: right;\">\n",
       "      <th></th>\n",
       "      <th>age</th>\n",
       "      <th>job</th>\n",
       "      <th>marital</th>\n",
       "      <th>education</th>\n",
       "      <th>default</th>\n",
       "      <th>balance</th>\n",
       "      <th>housing</th>\n",
       "      <th>loan</th>\n",
       "      <th>contact</th>\n",
       "      <th>day</th>\n",
       "      <th>month</th>\n",
       "      <th>duration</th>\n",
       "      <th>campaign</th>\n",
       "      <th>pdays</th>\n",
       "      <th>previous</th>\n",
       "      <th>poutcome</th>\n",
       "      <th>subscribed</th>\n",
       "    </tr>\n",
       "  </thead>\n",
       "  <tbody>\n",
       "    <tr>\n",
       "      <th>1995</th>\n",
       "      <td>20.0</td>\n",
       "      <td>student</td>\n",
       "      <td>single</td>\n",
       "      <td>NaN</td>\n",
       "      <td>no</td>\n",
       "      <td>2785</td>\n",
       "      <td>no</td>\n",
       "      <td>no</td>\n",
       "      <td>cellular</td>\n",
       "      <td>16</td>\n",
       "      <td>9</td>\n",
       "      <td>327</td>\n",
       "      <td>2</td>\n",
       "      <td>-1</td>\n",
       "      <td>0</td>\n",
       "      <td>NaN</td>\n",
       "      <td>yes</td>\n",
       "    </tr>\n",
       "    <tr>\n",
       "      <th>1996</th>\n",
       "      <td>28.0</td>\n",
       "      <td>admin.</td>\n",
       "      <td>single</td>\n",
       "      <td>secondary</td>\n",
       "      <td>no</td>\n",
       "      <td>127</td>\n",
       "      <td>no</td>\n",
       "      <td>no</td>\n",
       "      <td>cellular</td>\n",
       "      <td>16</td>\n",
       "      <td>9</td>\n",
       "      <td>1334</td>\n",
       "      <td>2</td>\n",
       "      <td>-1</td>\n",
       "      <td>0</td>\n",
       "      <td>NaN</td>\n",
       "      <td>yes</td>\n",
       "    </tr>\n",
       "    <tr>\n",
       "      <th>1997</th>\n",
       "      <td>81.0</td>\n",
       "      <td>retired</td>\n",
       "      <td>married</td>\n",
       "      <td>primary</td>\n",
       "      <td>no</td>\n",
       "      <td>1154</td>\n",
       "      <td>no</td>\n",
       "      <td>no</td>\n",
       "      <td>telephone</td>\n",
       "      <td>17</td>\n",
       "      <td>9</td>\n",
       "      <td>231</td>\n",
       "      <td>1</td>\n",
       "      <td>-1</td>\n",
       "      <td>0</td>\n",
       "      <td>NaN</td>\n",
       "      <td>yes</td>\n",
       "    </tr>\n",
       "    <tr>\n",
       "      <th>1998</th>\n",
       "      <td>46.0</td>\n",
       "      <td>services</td>\n",
       "      <td>married</td>\n",
       "      <td>primary</td>\n",
       "      <td>no</td>\n",
       "      <td>4343</td>\n",
       "      <td>yes</td>\n",
       "      <td>no</td>\n",
       "      <td>NaN</td>\n",
       "      <td>20</td>\n",
       "      <td>9</td>\n",
       "      <td>185</td>\n",
       "      <td>1</td>\n",
       "      <td>-1</td>\n",
       "      <td>0</td>\n",
       "      <td>NaN</td>\n",
       "      <td>yes</td>\n",
       "    </tr>\n",
       "    <tr>\n",
       "      <th>1999</th>\n",
       "      <td>40.0</td>\n",
       "      <td>entrepreneur</td>\n",
       "      <td>married</td>\n",
       "      <td>secondary</td>\n",
       "      <td>no</td>\n",
       "      <td>6403</td>\n",
       "      <td>no</td>\n",
       "      <td>no</td>\n",
       "      <td>cellular</td>\n",
       "      <td>22</td>\n",
       "      <td>9</td>\n",
       "      <td>208</td>\n",
       "      <td>2</td>\n",
       "      <td>-1</td>\n",
       "      <td>0</td>\n",
       "      <td>NaN</td>\n",
       "      <td>yes</td>\n",
       "    </tr>\n",
       "  </tbody>\n",
       "</table>\n",
       "</div>"
      ],
      "text/plain": [
       "       age           job  marital  education default  balance housing loan  \\\n",
       "1995  20.0       student   single        NaN      no     2785      no   no   \n",
       "1996  28.0        admin.   single  secondary      no      127      no   no   \n",
       "1997  81.0       retired  married    primary      no     1154      no   no   \n",
       "1998  46.0      services  married    primary      no     4343     yes   no   \n",
       "1999  40.0  entrepreneur  married  secondary      no     6403      no   no   \n",
       "\n",
       "        contact  day  month  duration  campaign  pdays  previous poutcome  \\\n",
       "1995   cellular   16      9       327         2     -1         0      NaN   \n",
       "1996   cellular   16      9      1334         2     -1         0      NaN   \n",
       "1997  telephone   17      9       231         1     -1         0      NaN   \n",
       "1998        NaN   20      9       185         1     -1         0      NaN   \n",
       "1999   cellular   22      9       208         2     -1         0      NaN   \n",
       "\n",
       "     subscribed  \n",
       "1995        yes  \n",
       "1996        yes  \n",
       "1997        yes  \n",
       "1998        yes  \n",
       "1999        yes  "
      ]
     },
     "execution_count": 205,
     "metadata": {},
     "output_type": "execute_result"
    }
   ],
   "source": [
    "# Create a mapper for months of the year\n",
    "\n",
    "month_mapper = {\n",
    "    \"jan\": 1,\n",
    "    \"feb\": 2,\n",
    "    \"mar\": 3,\n",
    "    \"apr\": 4,\n",
    "    \"may\": 5,\n",
    "    \"jun\": 6,\n",
    "    \"jul\": 7,\n",
    "    \"aug\": 8,\n",
    "    \"sep\": 9,\n",
    "    \"oct\": 10,\n",
    "    \"nov\": 11,\n",
    "    \"dec\": 12\n",
    "}\n",
    "\n",
    "df['month'] = df['month'].replace(month_mapper)\n",
    "\n",
    "df.tail()"
   ]
  },
  {
   "cell_type": "markdown",
   "metadata": {},
   "source": [
    "##### One-Hot Encoding for Nominal Data"
   ]
  },
  {
   "cell_type": "code",
   "execution_count": 206,
   "metadata": {},
   "outputs": [
    {
     "data": {
      "text/html": [
       "<div>\n",
       "<style scoped>\n",
       "    .dataframe tbody tr th:only-of-type {\n",
       "        vertical-align: middle;\n",
       "    }\n",
       "\n",
       "    .dataframe tbody tr th {\n",
       "        vertical-align: top;\n",
       "    }\n",
       "\n",
       "    .dataframe thead th {\n",
       "        text-align: right;\n",
       "    }\n",
       "</style>\n",
       "<table border=\"1\" class=\"dataframe\">\n",
       "  <thead>\n",
       "    <tr style=\"text-align: right;\">\n",
       "      <th></th>\n",
       "      <th>age</th>\n",
       "      <th>marital</th>\n",
       "      <th>default</th>\n",
       "      <th>balance</th>\n",
       "      <th>housing</th>\n",
       "      <th>loan</th>\n",
       "      <th>day</th>\n",
       "      <th>month</th>\n",
       "      <th>duration</th>\n",
       "      <th>campaign</th>\n",
       "      <th>...</th>\n",
       "      <th>job_unemployed</th>\n",
       "      <th>job_nan</th>\n",
       "      <th>contact_telephone</th>\n",
       "      <th>contact_nan</th>\n",
       "      <th>poutcome_other</th>\n",
       "      <th>poutcome_success</th>\n",
       "      <th>poutcome_nan</th>\n",
       "      <th>education_secondary</th>\n",
       "      <th>education_tertiary</th>\n",
       "      <th>education_nan</th>\n",
       "    </tr>\n",
       "  </thead>\n",
       "  <tbody>\n",
       "    <tr>\n",
       "      <th>1995</th>\n",
       "      <td>20.0</td>\n",
       "      <td>single</td>\n",
       "      <td>no</td>\n",
       "      <td>2785</td>\n",
       "      <td>no</td>\n",
       "      <td>no</td>\n",
       "      <td>16</td>\n",
       "      <td>9</td>\n",
       "      <td>327</td>\n",
       "      <td>2</td>\n",
       "      <td>...</td>\n",
       "      <td>0</td>\n",
       "      <td>0</td>\n",
       "      <td>0</td>\n",
       "      <td>0</td>\n",
       "      <td>0</td>\n",
       "      <td>0</td>\n",
       "      <td>1</td>\n",
       "      <td>0</td>\n",
       "      <td>0</td>\n",
       "      <td>1</td>\n",
       "    </tr>\n",
       "    <tr>\n",
       "      <th>1996</th>\n",
       "      <td>28.0</td>\n",
       "      <td>single</td>\n",
       "      <td>no</td>\n",
       "      <td>127</td>\n",
       "      <td>no</td>\n",
       "      <td>no</td>\n",
       "      <td>16</td>\n",
       "      <td>9</td>\n",
       "      <td>1334</td>\n",
       "      <td>2</td>\n",
       "      <td>...</td>\n",
       "      <td>0</td>\n",
       "      <td>0</td>\n",
       "      <td>0</td>\n",
       "      <td>0</td>\n",
       "      <td>0</td>\n",
       "      <td>0</td>\n",
       "      <td>1</td>\n",
       "      <td>1</td>\n",
       "      <td>0</td>\n",
       "      <td>0</td>\n",
       "    </tr>\n",
       "    <tr>\n",
       "      <th>1997</th>\n",
       "      <td>81.0</td>\n",
       "      <td>married</td>\n",
       "      <td>no</td>\n",
       "      <td>1154</td>\n",
       "      <td>no</td>\n",
       "      <td>no</td>\n",
       "      <td>17</td>\n",
       "      <td>9</td>\n",
       "      <td>231</td>\n",
       "      <td>1</td>\n",
       "      <td>...</td>\n",
       "      <td>0</td>\n",
       "      <td>0</td>\n",
       "      <td>1</td>\n",
       "      <td>0</td>\n",
       "      <td>0</td>\n",
       "      <td>0</td>\n",
       "      <td>1</td>\n",
       "      <td>0</td>\n",
       "      <td>0</td>\n",
       "      <td>0</td>\n",
       "    </tr>\n",
       "    <tr>\n",
       "      <th>1998</th>\n",
       "      <td>46.0</td>\n",
       "      <td>married</td>\n",
       "      <td>no</td>\n",
       "      <td>4343</td>\n",
       "      <td>yes</td>\n",
       "      <td>no</td>\n",
       "      <td>20</td>\n",
       "      <td>9</td>\n",
       "      <td>185</td>\n",
       "      <td>1</td>\n",
       "      <td>...</td>\n",
       "      <td>0</td>\n",
       "      <td>0</td>\n",
       "      <td>0</td>\n",
       "      <td>1</td>\n",
       "      <td>0</td>\n",
       "      <td>0</td>\n",
       "      <td>1</td>\n",
       "      <td>0</td>\n",
       "      <td>0</td>\n",
       "      <td>0</td>\n",
       "    </tr>\n",
       "    <tr>\n",
       "      <th>1999</th>\n",
       "      <td>40.0</td>\n",
       "      <td>married</td>\n",
       "      <td>no</td>\n",
       "      <td>6403</td>\n",
       "      <td>no</td>\n",
       "      <td>no</td>\n",
       "      <td>22</td>\n",
       "      <td>9</td>\n",
       "      <td>208</td>\n",
       "      <td>2</td>\n",
       "      <td>...</td>\n",
       "      <td>0</td>\n",
       "      <td>0</td>\n",
       "      <td>0</td>\n",
       "      <td>0</td>\n",
       "      <td>0</td>\n",
       "      <td>0</td>\n",
       "      <td>1</td>\n",
       "      <td>1</td>\n",
       "      <td>0</td>\n",
       "      <td>0</td>\n",
       "    </tr>\n",
       "  </tbody>\n",
       "</table>\n",
       "<p>5 rows × 32 columns</p>\n",
       "</div>"
      ],
      "text/plain": [
       "       age  marital default  balance housing loan  day  month  duration  \\\n",
       "1995  20.0   single      no     2785      no   no   16      9       327   \n",
       "1996  28.0   single      no      127      no   no   16      9      1334   \n",
       "1997  81.0  married      no     1154      no   no   17      9       231   \n",
       "1998  46.0  married      no     4343     yes   no   20      9       185   \n",
       "1999  40.0  married      no     6403      no   no   22      9       208   \n",
       "\n",
       "      campaign  ...  job_unemployed  job_nan contact_telephone  contact_nan  \\\n",
       "1995         2  ...               0        0                 0            0   \n",
       "1996         2  ...               0        0                 0            0   \n",
       "1997         1  ...               0        0                 1            0   \n",
       "1998         1  ...               0        0                 0            1   \n",
       "1999         2  ...               0        0                 0            0   \n",
       "\n",
       "      poutcome_other  poutcome_success  poutcome_nan  education_secondary  \\\n",
       "1995               0                 0             1                    0   \n",
       "1996               0                 0             1                    1   \n",
       "1997               0                 0             1                    0   \n",
       "1998               0                 0             1                    0   \n",
       "1999               0                 0             1                    1   \n",
       "\n",
       "      education_tertiary  education_nan  \n",
       "1995                   0              1  \n",
       "1996                   0              0  \n",
       "1997                   0              0  \n",
       "1998                   0              0  \n",
       "1999                   0              0  \n",
       "\n",
       "[5 rows x 32 columns]"
      ]
     },
     "execution_count": 206,
     "metadata": {},
     "output_type": "execute_result"
    }
   ],
   "source": [
    "# One-hot encode all nominal data with NaNs\n",
    "\n",
    "df = pd.get_dummies(df, columns=['job', 'contact', 'poutcome','education'], \n",
    "                        dummy_na=True, \n",
    "                        drop_first=True)\n",
    "df.tail()"
   ]
  },
  {
   "cell_type": "code",
   "execution_count": 207,
   "metadata": {},
   "outputs": [
    {
     "data": {
      "text/html": [
       "<div>\n",
       "<style scoped>\n",
       "    .dataframe tbody tr th:only-of-type {\n",
       "        vertical-align: middle;\n",
       "    }\n",
       "\n",
       "    .dataframe tbody tr th {\n",
       "        vertical-align: top;\n",
       "    }\n",
       "\n",
       "    .dataframe thead th {\n",
       "        text-align: right;\n",
       "    }\n",
       "</style>\n",
       "<table border=\"1\" class=\"dataframe\">\n",
       "  <thead>\n",
       "    <tr style=\"text-align: right;\">\n",
       "      <th></th>\n",
       "      <th>age</th>\n",
       "      <th>balance</th>\n",
       "      <th>day</th>\n",
       "      <th>month</th>\n",
       "      <th>duration</th>\n",
       "      <th>campaign</th>\n",
       "      <th>pdays</th>\n",
       "      <th>previous</th>\n",
       "      <th>job_blue-collar</th>\n",
       "      <th>job_entrepreneur</th>\n",
       "      <th>...</th>\n",
       "      <th>poutcome_nan</th>\n",
       "      <th>education_secondary</th>\n",
       "      <th>education_tertiary</th>\n",
       "      <th>education_nan</th>\n",
       "      <th>marital_married</th>\n",
       "      <th>marital_single</th>\n",
       "      <th>default_yes</th>\n",
       "      <th>housing_yes</th>\n",
       "      <th>loan_yes</th>\n",
       "      <th>subscribed_yes</th>\n",
       "    </tr>\n",
       "  </thead>\n",
       "  <tbody>\n",
       "    <tr>\n",
       "      <th>0</th>\n",
       "      <td>32.0</td>\n",
       "      <td>392</td>\n",
       "      <td>1</td>\n",
       "      <td>4</td>\n",
       "      <td>957</td>\n",
       "      <td>2</td>\n",
       "      <td>131</td>\n",
       "      <td>2</td>\n",
       "      <td>0</td>\n",
       "      <td>0</td>\n",
       "      <td>...</td>\n",
       "      <td>0</td>\n",
       "      <td>0</td>\n",
       "      <td>1</td>\n",
       "      <td>0</td>\n",
       "      <td>0</td>\n",
       "      <td>1</td>\n",
       "      <td>0</td>\n",
       "      <td>1</td>\n",
       "      <td>0</td>\n",
       "      <td>0</td>\n",
       "    </tr>\n",
       "    <tr>\n",
       "      <th>1</th>\n",
       "      <td>39.0</td>\n",
       "      <td>688</td>\n",
       "      <td>1</td>\n",
       "      <td>4</td>\n",
       "      <td>233</td>\n",
       "      <td>2</td>\n",
       "      <td>133</td>\n",
       "      <td>1</td>\n",
       "      <td>0</td>\n",
       "      <td>0</td>\n",
       "      <td>...</td>\n",
       "      <td>0</td>\n",
       "      <td>1</td>\n",
       "      <td>0</td>\n",
       "      <td>0</td>\n",
       "      <td>0</td>\n",
       "      <td>0</td>\n",
       "      <td>0</td>\n",
       "      <td>1</td>\n",
       "      <td>1</td>\n",
       "      <td>0</td>\n",
       "    </tr>\n",
       "    <tr>\n",
       "      <th>2</th>\n",
       "      <td>59.0</td>\n",
       "      <td>1035</td>\n",
       "      <td>1</td>\n",
       "      <td>4</td>\n",
       "      <td>126</td>\n",
       "      <td>2</td>\n",
       "      <td>239</td>\n",
       "      <td>1</td>\n",
       "      <td>0</td>\n",
       "      <td>0</td>\n",
       "      <td>...</td>\n",
       "      <td>0</td>\n",
       "      <td>1</td>\n",
       "      <td>0</td>\n",
       "      <td>0</td>\n",
       "      <td>1</td>\n",
       "      <td>0</td>\n",
       "      <td>0</td>\n",
       "      <td>1</td>\n",
       "      <td>1</td>\n",
       "      <td>0</td>\n",
       "    </tr>\n",
       "    <tr>\n",
       "      <th>3</th>\n",
       "      <td>47.0</td>\n",
       "      <td>398</td>\n",
       "      <td>1</td>\n",
       "      <td>4</td>\n",
       "      <td>274</td>\n",
       "      <td>1</td>\n",
       "      <td>238</td>\n",
       "      <td>2</td>\n",
       "      <td>1</td>\n",
       "      <td>0</td>\n",
       "      <td>...</td>\n",
       "      <td>0</td>\n",
       "      <td>1</td>\n",
       "      <td>0</td>\n",
       "      <td>0</td>\n",
       "      <td>1</td>\n",
       "      <td>0</td>\n",
       "      <td>0</td>\n",
       "      <td>1</td>\n",
       "      <td>1</td>\n",
       "      <td>0</td>\n",
       "    </tr>\n",
       "    <tr>\n",
       "      <th>4</th>\n",
       "      <td>54.0</td>\n",
       "      <td>1004</td>\n",
       "      <td>1</td>\n",
       "      <td>4</td>\n",
       "      <td>479</td>\n",
       "      <td>1</td>\n",
       "      <td>307</td>\n",
       "      <td>1</td>\n",
       "      <td>0</td>\n",
       "      <td>0</td>\n",
       "      <td>...</td>\n",
       "      <td>0</td>\n",
       "      <td>1</td>\n",
       "      <td>0</td>\n",
       "      <td>0</td>\n",
       "      <td>1</td>\n",
       "      <td>0</td>\n",
       "      <td>0</td>\n",
       "      <td>1</td>\n",
       "      <td>0</td>\n",
       "      <td>0</td>\n",
       "    </tr>\n",
       "  </tbody>\n",
       "</table>\n",
       "<p>5 rows × 33 columns</p>\n",
       "</div>"
      ],
      "text/plain": [
       "    age  balance  day  month  duration  campaign  pdays  previous  \\\n",
       "0  32.0      392    1      4       957         2    131         2   \n",
       "1  39.0      688    1      4       233         2    133         1   \n",
       "2  59.0     1035    1      4       126         2    239         1   \n",
       "3  47.0      398    1      4       274         1    238         2   \n",
       "4  54.0     1004    1      4       479         1    307         1   \n",
       "\n",
       "   job_blue-collar  job_entrepreneur  ...  poutcome_nan  education_secondary  \\\n",
       "0                0                 0  ...             0                    0   \n",
       "1                0                 0  ...             0                    1   \n",
       "2                0                 0  ...             0                    1   \n",
       "3                1                 0  ...             0                    1   \n",
       "4                0                 0  ...             0                    1   \n",
       "\n",
       "   education_tertiary  education_nan  marital_married  marital_single  \\\n",
       "0                   1              0                0               1   \n",
       "1                   0              0                0               0   \n",
       "2                   0              0                1               0   \n",
       "3                   0              0                1               0   \n",
       "4                   0              0                1               0   \n",
       "\n",
       "   default_yes  housing_yes  loan_yes  subscribed_yes  \n",
       "0            0            1         0               0  \n",
       "1            0            1         1               0  \n",
       "2            0            1         1               0  \n",
       "3            0            1         1               0  \n",
       "4            0            1         0               0  \n",
       "\n",
       "[5 rows x 33 columns]"
      ]
     },
     "execution_count": 207,
     "metadata": {},
     "output_type": "execute_result"
    }
   ],
   "source": [
    "# One-hot encode all other nominal data\n",
    "\n",
    "df = pd.get_dummies(df, drop_first=True)\n",
    "df.head()"
   ]
  },
  {
   "cell_type": "markdown",
   "metadata": {},
   "source": [
    "## Part 2: Fill in All Missing Values"
   ]
  },
  {
   "cell_type": "code",
   "execution_count": 208,
   "metadata": {},
   "outputs": [
    {
     "data": {
      "text/plain": [
       "age                    12\n",
       "balance                 0\n",
       "day                     0\n",
       "month                   0\n",
       "duration                0\n",
       "campaign                0\n",
       "pdays                   0\n",
       "previous                0\n",
       "job_blue-collar         0\n",
       "job_entrepreneur        0\n",
       "job_housemaid           0\n",
       "job_management          0\n",
       "job_retired             0\n",
       "job_self-employed       0\n",
       "job_services            0\n",
       "job_student             0\n",
       "job_technician          0\n",
       "job_unemployed          0\n",
       "job_nan                 0\n",
       "contact_telephone       0\n",
       "contact_nan             0\n",
       "poutcome_other          0\n",
       "poutcome_success        0\n",
       "poutcome_nan            0\n",
       "education_secondary     0\n",
       "education_tertiary      0\n",
       "education_nan           0\n",
       "marital_married         0\n",
       "marital_single          0\n",
       "default_yes             0\n",
       "housing_yes             0\n",
       "loan_yes                0\n",
       "subscribed_yes          0\n",
       "dtype: int64"
      ]
     },
     "execution_count": 208,
     "metadata": {},
     "output_type": "execute_result"
    }
   ],
   "source": [
    "# Print out the number of missing values per attribute\n",
    "df.isna().sum()"
   ]
  },
  {
   "cell_type": "markdown",
   "metadata": {},
   "source": [
    "As we can see from the above output only one of our features, `age` has missing values. The number of values it is missing is less than 25% and so it is not enough to drop this column.\n",
    "\n",
    "To fill in the missing values for `age` we will hypothesise that the `education_tertiary` and `marital_married` attributes are good indicators to produce an estimate for these missing values."
   ]
  },
  {
   "cell_type": "code",
   "execution_count": 209,
   "metadata": {},
   "outputs": [
    {
     "data": {
      "image/png": "[encoded data removed]",
      "text/plain": [
       "<Figure size 432x288 with 1 Axes>"
      ]
     },
     "metadata": {
      "needs_background": "light"
     },
     "output_type": "display_data"
    }
   ],
   "source": [
    "df.boxplot(column='age', by=['education_tertiary','marital_married'], rot=45)\n",
    "plt.title(\"\")\n",
    "plt.show()"
   ]
  },
  {
   "cell_type": "markdown",
   "metadata": {},
   "source": [
    "As visible from the above plot, there is a varying difference between the **medians** of `age` and so we will use these medians to fill in the missing data points."
   ]
  },
  {
   "cell_type": "code",
   "execution_count": 210,
   "metadata": {},
   "outputs": [
    {
     "data": {
      "text/html": [
       "<div>\n",
       "<style scoped>\n",
       "    .dataframe tbody tr th:only-of-type {\n",
       "        vertical-align: middle;\n",
       "    }\n",
       "\n",
       "    .dataframe tbody tr th {\n",
       "        vertical-align: top;\n",
       "    }\n",
       "\n",
       "    .dataframe thead th {\n",
       "        text-align: right;\n",
       "    }\n",
       "</style>\n",
       "<table border=\"1\" class=\"dataframe\">\n",
       "  <thead>\n",
       "    <tr style=\"text-align: right;\">\n",
       "      <th>marital_married</th>\n",
       "      <th>0</th>\n",
       "      <th>1</th>\n",
       "    </tr>\n",
       "    <tr>\n",
       "      <th>education_tertiary</th>\n",
       "      <th></th>\n",
       "      <th></th>\n",
       "    </tr>\n",
       "  </thead>\n",
       "  <tbody>\n",
       "    <tr>\n",
       "      <th>0</th>\n",
       "      <td>34.0</td>\n",
       "      <td>45.0</td>\n",
       "    </tr>\n",
       "    <tr>\n",
       "      <th>1</th>\n",
       "      <td>33.0</td>\n",
       "      <td>40.5</td>\n",
       "    </tr>\n",
       "  </tbody>\n",
       "</table>\n",
       "</div>"
      ],
      "text/plain": [
       "marital_married        0     1\n",
       "education_tertiary            \n",
       "0                   34.0  45.0\n",
       "1                   33.0  40.5"
      ]
     },
     "execution_count": 210,
     "metadata": {},
     "output_type": "execute_result"
    }
   ],
   "source": [
    "ptable = df.pivot_table(values='age', \n",
    "                        index='education_tertiary',\n",
    "                        columns='marital_married',  \n",
    "                        aggfunc=np.median)\n",
    "ptable"
   ]
  },
  {
   "cell_type": "markdown",
   "metadata": {},
   "source": [
    "From the above pivot table we can see precisely the median values of age for the different scenarios in `education_tertiary`, combined with `marital_married`."
   ]
  },
  {
   "cell_type": "code",
   "execution_count": 211,
   "metadata": {},
   "outputs": [],
   "source": [
    "# Define function to return an element of the pivot table\n",
    "def get_element(x):\n",
    "    return ptable.loc[x['education_tertiary'], x['marital_married']]\n",
    "\n",
    "# Replace missing age values\n",
    "df['age'].fillna(df[df['age'].isnull()].apply(get_element, axis=1), inplace=True)"
   ]
  },
  {
   "cell_type": "markdown",
   "metadata": {},
   "source": [
    "The reason behind choosing this method to replace missing values and not a simpler method is because of the use of i.e. **median**, **mean**, etc. can possibly introduce **bias** into the data."
   ]
  },
  {
   "cell_type": "markdown",
   "metadata": {},
   "source": [
    "## Part 3: Apply a Scaler to Rescale Features"
   ]
  },
  {
   "cell_type": "markdown",
   "metadata": {},
   "source": [
    "For all the attibutes which we have performed **encoding** and **one-hot encoding** for we do not need to apply a scaler to rescale the features. This is because:\n",
    "- The encoded months and days have been replaced with cos and sin features and are in the range [-1 - 1]\n",
    "- The one-hot encoded attributes have been replaced by 0's and 1's to signify the presence of their features and so are in the range [0 - 1].\n",
    "\n",
    "For the remaining features `age`, `balance`, `duration`, `campaign`, `previous` and `pdays` it is necessary for us to plot the distribution of the data of these variables to show:\n",
    "- **Outliers**.\n",
    "- Whether they need **rescaling**."
   ]
  },
  {
   "cell_type": "code",
   "execution_count": 212,
   "metadata": {},
   "outputs": [
    {
     "data": {
      "image/png": "[encoded data removed]",
      "text/plain": [
       "<Figure size 1152x1152 with 6 Axes>"
      ]
     },
     "metadata": {
      "needs_background": "light"
     },
     "output_type": "display_data"
    }
   ],
   "source": [
    "# Create figure with 6 subplots\n",
    "fig = plt.figure(figsize=(16,16))\n",
    "\n",
    "# Plot age\n",
    "ax1 = fig.add_subplot(3, 2, 1)\n",
    "ax1.set_title(\"Histogram of age\")\n",
    "ax1.set_xlabel('age')\n",
    "ax1.set_ylabel('Number of Clients')\n",
    "df['age'].hist(bins=20)\n",
    "\n",
    "# Plot balance\n",
    "ax2 = fig.add_subplot(3, 2, 2)\n",
    "ax2.set_title(\"Histogram of balance\")\n",
    "ax2.set_xlabel('balance')\n",
    "ax2.set_ylabel('Number of Clients')\n",
    "df['balance'].hist(bins=20)\n",
    "\n",
    "# Plot duration\n",
    "ax3 = fig.add_subplot(3, 2, 3)\n",
    "ax3.set_title(\"Histogram of duration\")\n",
    "ax3.set_xlabel('duration')\n",
    "ax3.set_ylabel('Number of Clients')\n",
    "df['duration'].hist(bins=20)\n",
    "\n",
    "# Plot campaign\n",
    "ax4 = fig.add_subplot(3, 2, 4)\n",
    "ax4.set_title(\"Histogram of campaign\")\n",
    "ax4.set_xlabel('campaign')\n",
    "ax4.set_ylabel('Number of Clients')\n",
    "df['campaign'].hist(bins=20)\n",
    "\n",
    "# Plot previous\n",
    "ax5 = fig.add_subplot(3, 2, 5)\n",
    "ax5.set_title(\"Histogram of previous\")\n",
    "ax5.set_xlabel('previous')\n",
    "ax5.set_ylabel('Number of Clients')\n",
    "df['previous'].hist(bins=20)\n",
    "\n",
    "# Plot pdays\n",
    "ax6 = fig.add_subplot(3, 2, 6)\n",
    "ax6.set_title(\"Histogram of pdays\")\n",
    "ax6.set_xlabel('pdays')\n",
    "ax6.set_ylabel('Number of Clients')\n",
    "df['pdays'].hist(bins=20)\n",
    "\n",
    "fig.tight_layout()\n",
    "\n",
    "plt.show()"
   ]
  },
  {
   "cell_type": "markdown",
   "metadata": {},
   "source": [
    "From viewing the above plots we can see that `campaign` and `balance` follow more of a normal distribution with little to no **outliers**. These features are suited to be scaled by using the **standard scaler** as it can center the data by using the **mean** and **standard deviation** (which has not been affected by **outliers**."
   ]
  },
  {
   "cell_type": "code",
   "execution_count": 213,
   "metadata": {},
   "outputs": [],
   "source": [
    "# Use a standard scaler to scale attributes evenly distributed\n",
    "scaler = StandardScaler()\n",
    "df[['campaign','age']] = scaler.fit_transform(df[['campaign','age']])"
   ]
  },
  {
   "cell_type": "markdown",
   "metadata": {},
   "source": [
    "Also from viewing the above plots we can see that `balance`, `previous`, `pdays` and `duration` all contain **outliers**. Due to these features containing outliers the **minmax** or **standard scalers** are not suited to them, as the outliers would end up being on the boundaries with the rest of the data lying in a small range. The solution is to use a **robust scaler** as it is more suited to **outliers**."
   ]
  },
  {
   "cell_type": "code",
   "execution_count": 214,
   "metadata": {},
   "outputs": [],
   "source": [
    "# Use a robust scaler to scale attributes with outliers\n",
    "robust_scaler = RobustScaler()\n",
    "df[['balance','previous','pdays', 'duration']] = robust_scaler.fit_transform(df[['balance','previous','pdays', 'duration']])"
   ]
  },
  {
   "cell_type": "markdown",
   "metadata": {},
   "source": [
    "## Part 4: Treated Outliers Appropriately"
   ]
  },
  {
   "cell_type": "markdown",
   "metadata": {},
   "source": [
    "As seen in the previous section `pdays`, `duration`, `balance` and `previous` are the attributes with the most extreme amount of outliers and the robust scaler was used on them. We must once more verify this claim and if true treat the outliers appropriately."
   ]
  },
  {
   "cell_type": "code",
   "execution_count": 215,
   "metadata": {},
   "outputs": [
    {
     "data": {
      "image/png": "[encoded data removed]",
      "text/plain": [
       "<Figure size 432x288 with 1 Axes>"
      ]
     },
     "metadata": {
      "needs_background": "light"
     },
     "output_type": "display_data"
    }
   ],
   "source": [
    "# Box plot of balance and previous\n",
    "df.boxplot(column=['balance','previous', 'pdays', 'duration'])\n",
    "plt.show()"
   ]
  },
  {
   "cell_type": "markdown",
   "metadata": {},
   "source": [
    "As we can see from the above boxplot these features do have many outliers."
   ]
  },
  {
   "cell_type": "code",
   "execution_count": 216,
   "metadata": {},
   "outputs": [
    {
     "data": {
      "image/png": "[encoded data removed]",
      "text/plain": [
       "<Figure size 1152x576 with 4 Axes>"
      ]
     },
     "metadata": {
      "needs_background": "light"
     },
     "output_type": "display_data"
    }
   ],
   "source": [
    "# Create figure with four subplots\n",
    "fig = plt.figure(figsize=(16,8))\n",
    "\n",
    "# Plot balance\n",
    "ax1 = fig.add_subplot(2, 2, 1)\n",
    "ax1.set_title(\"Histogram of balance\")\n",
    "ax1.set_xlabel('balance')\n",
    "ax1.set_ylabel('Number of Clients')\n",
    "df['balance'].hist(bins=20)\n",
    "\n",
    "# Plot previous\n",
    "ax3 = fig.add_subplot(2, 2, 2)\n",
    "ax3.set_title(\"Histogram of previous\")\n",
    "ax3.set_xlabel('previous')\n",
    "ax3.set_ylabel('Number of Clients')\n",
    "df['previous'].hist(bins=20)\n",
    "\n",
    "# Plot pdays\n",
    "ax2 = fig.add_subplot(2, 2, 3)\n",
    "ax2.set_title(\"Histogram of pdays\")\n",
    "ax2.set_xlabel('pdays')\n",
    "ax2.set_ylabel('Number of Clients')\n",
    "df['pdays'].hist(bins=20)\n",
    "\n",
    "# Plot duration\n",
    "ax4 = fig.add_subplot(2, 2, 4)\n",
    "ax4.set_title(\"Histogram of duration\")\n",
    "ax4.set_xlabel('duration')\n",
    "ax4.set_ylabel('Number of Clients')\n",
    "df['duration'].hist(bins=20)\n",
    "\n",
    "fig.tight_layout()\n",
    "plt.show()"
   ]
  },
  {
   "cell_type": "markdown",
   "metadata": {},
   "source": [
    "The above histograms shows that the attributes are left skewed and also backs up our earlier statements about the presence of outliers."
   ]
  },
  {
   "cell_type": "code",
   "execution_count": 217,
   "metadata": {},
   "outputs": [
    {
     "data": {
      "text/plain": [
       "balance    -1.060984\n",
       "previous   -1.000000\n",
       "pdays      -1.044223\n",
       "duration   -0.982833\n",
       "dtype: float64"
      ]
     },
     "execution_count": 217,
     "metadata": {},
     "output_type": "execute_result"
    }
   ],
   "source": [
    "df[['balance', 'previous', 'pdays', 'duration']].min()"
   ]
  },
  {
   "cell_type": "markdown",
   "metadata": {},
   "source": [
    "The attributes also contain negative values. Before we apply a log function to treat outliers we must also shift them to the right to get rid of negative values."
   ]
  },
  {
   "cell_type": "code",
   "execution_count": 218,
   "metadata": {},
   "outputs": [],
   "source": [
    "# Use a log transformation to decrease the impact of outliers\n",
    "df['balance'] = np.log(df['balance']+2.07)\n",
    "df['previous'] = np.log(df['previous']+2)\n",
    "df['pdays'] = np.log(df['pdays']+2.044223)\n",
    "df['duration'] = np.log(df['duration']+1.99)"
   ]
  },
  {
   "cell_type": "code",
   "execution_count": 219,
   "metadata": {},
   "outputs": [
    {
     "data": {
      "image/png": "[encoded data removed]",
      "text/plain": [
       "<Figure size 1152x576 with 4 Axes>"
      ]
     },
     "metadata": {
      "needs_background": "light"
     },
     "output_type": "display_data"
    }
   ],
   "source": [
    "# Create figure with four subplots\n",
    "fig = plt.figure(figsize=(16,8))\n",
    "\n",
    "# Plot balance\n",
    "ax1 = fig.add_subplot(2, 2, 1)\n",
    "ax1.set_title(\"Histogram of balance\")\n",
    "ax1.set_xlabel('balance')\n",
    "ax1.set_ylabel('Number of Clients')\n",
    "df['balance'].hist(bins=20)\n",
    "\n",
    "# Plot previous\n",
    "ax3 = fig.add_subplot(2, 2, 2)\n",
    "ax3.set_title(\"Histogram of previous\")\n",
    "ax3.set_xlabel('previous')\n",
    "ax3.set_ylabel('Number of Clients')\n",
    "df['previous'].hist(bins=20)\n",
    "\n",
    "# Plot pdays\n",
    "ax2 = fig.add_subplot(2, 2, 3)\n",
    "ax2.set_title(\"Histogram of pdays\")\n",
    "ax2.set_xlabel('pdays')\n",
    "ax2.set_ylabel('Number of Clients')\n",
    "df['pdays'].hist(bins=20)\n",
    "\n",
    "# Plot duration\n",
    "ax4 = fig.add_subplot(2, 2, 4)\n",
    "ax4.set_title(\"Histogram of duration\")\n",
    "ax4.set_xlabel('duration')\n",
    "ax4.set_ylabel('Number of Clients')\n",
    "df['duration'].hist(bins=20)\n",
    "\n",
    "fig.tight_layout()\n",
    "plt.show()"
   ]
  },
  {
   "cell_type": "markdown",
   "metadata": {},
   "source": [
    "As we can see from the above histograms, `pdays`, `duration`, `balance` and `previous` now have a more even distribution (closer to normal distribution) and also are less skewed.\n",
    "\n",
    "It is important to notice the amount of data that lies at 0.00 for `pdays`. Originally people who were not previously contacted and were new clients would have a -1 value for pdays. Now due to rescaling and shifting, these -1 values are now sitting at 0.00. So the high number at 0 for pdays are people who have not been previously contacted."
   ]
  },
  {
   "cell_type": "markdown",
   "metadata": {},
   "source": [
    "## Part 5: Creation of New Features"
   ]
  },
  {
   "cell_type": "markdown",
   "metadata": {},
   "source": [
    "#### New Client"
   ]
  },
  {
   "cell_type": "markdown",
   "metadata": {},
   "source": [
    "To correctly portray the information mentioned above I think that the creation of a new feature to determine whether a person is a new client or not is necessary. For this:\n",
    "- 1 will represent a new client.\n",
    "- 0 will represent a previous client.\n",
    "\n",
    "To derive the values for this new feature (`newClient`) we will look at `pdays` in the original dataframe. If `pdays` = -1 for a row then they are a new client, else they are a previous client."
   ]
  },
  {
   "cell_type": "code",
   "execution_count": 220,
   "metadata": {},
   "outputs": [],
   "source": [
    "def label_client(row):\n",
    "    if row['pdays'] == -1:\n",
    "        return 1\n",
    "    else:\n",
    "        return 0"
   ]
  },
  {
   "cell_type": "code",
   "execution_count": 221,
   "metadata": {},
   "outputs": [],
   "source": [
    "df['newClient'] = df_original.apply(lambda row: label_client(row), axis=1)"
   ]
  },
  {
   "cell_type": "code",
   "execution_count": 225,
   "metadata": {},
   "outputs": [
    {
     "data": {
      "text/plain": [
       "0    1546\n",
       "1     454\n",
       "Name: newClient, dtype: int64"
      ]
     },
     "execution_count": 225,
     "metadata": {},
     "output_type": "execute_result"
    }
   ],
   "source": [
    "df['newClient'].value_counts()"
   ]
  },
  {
   "cell_type": "markdown",
   "metadata": {},
   "source": [
    "As we can see from the above cell, 454 of the clients are new clients."
   ]
  },
  {
   "cell_type": "markdown",
   "metadata": {},
   "source": [
    "#### Total Contact"
   ]
  },
  {
   "cell_type": "markdown",
   "metadata": {},
   "source": [
    "The `previous` attribute contains many zeros as clients have not been previously contacted. This skews the data towards 0 and cannot be easily fixed with a log transformation.\n",
    "\n",
    "What can be done is:\n",
    "- We can create a new feature `totalContact` which is the sum of the contact for this `campaign` and `previous` campaigns.\n",
    "- We can then drop the `previous` feature as it can be derived from `totalContact` - `campaign`."
   ]
  },
  {
   "cell_type": "code",
   "execution_count": 165,
   "metadata": {},
   "outputs": [
    {
     "data": {
      "image/png": "[encoded data removed]",
      "text/plain": [
       "<Figure size 432x288 with 1 Axes>"
      ]
     },
     "metadata": {
      "needs_background": "light"
     },
     "output_type": "display_data"
    }
   ],
   "source": [
    "# Plot original previous\n",
    "df_original['previous'].hist(bins=20)\n",
    "plt.show()"
   ]
  },
  {
   "cell_type": "code",
   "execution_count": 166,
   "metadata": {},
   "outputs": [
    {
     "data": {
      "image/png": "[encoded data removed]",
      "text/plain": [
       "<Figure size 432x288 with 1 Axes>"
      ]
     },
     "metadata": {
      "needs_background": "light"
     },
     "output_type": "display_data"
    }
   ],
   "source": [
    "# Use a log function to show log skew\n",
    "np.log(df_original['previous']+1).hist(bins=20)\n",
    "plt.show()"
   ]
  },
  {
   "cell_type": "code",
   "execution_count": 167,
   "metadata": {},
   "outputs": [
    {
     "data": {
      "text/plain": [
       "TotalContact   -0.666667\n",
       "dtype: float64"
      ]
     },
     "execution_count": 167,
     "metadata": {},
     "output_type": "execute_result"
    }
   ],
   "source": [
    "# Create TotalContact column and apply a log transformation\n",
    "df['TotalContact'] = df_original['previous'] + df_original['campaign']\n",
    "df[['TotalContact']] = robust_scaler.fit_transform(df[['TotalContact']])\n",
    "\n",
    "# Get the min value so we can shift right by that value\n",
    "df[['TotalContact']].min()"
   ]
  },
  {
   "cell_type": "code",
   "execution_count": 168,
   "metadata": {},
   "outputs": [],
   "source": [
    "# Apply a log transformation to take care of any outliers\n",
    "df['TotalContact'] = np.log(df['TotalContact']+1.67)"
   ]
  },
  {
   "cell_type": "code",
   "execution_count": 169,
   "metadata": {},
   "outputs": [
    {
     "data": {
      "image/png": "[encoded data removed]",
      "text/plain": [
       "<Figure size 432x288 with 1 Axes>"
      ]
     },
     "metadata": {
      "needs_background": "light"
     },
     "output_type": "display_data"
    }
   ],
   "source": [
    "# Plot a histogram of TotalContact\n",
    "df['TotalContact'].hist(bins=20)\n",
    "plt.show()"
   ]
  },
  {
   "cell_type": "markdown",
   "metadata": {},
   "source": [
    "#### Cos and Sin of Month and Day"
   ]
  },
  {
   "cell_type": "markdown",
   "metadata": {},
   "source": [
    "As mentioned earlier the months of the year can be considered cyclic data (December - 12, leads to January - 1) and so can the days of the week so we will create new attributes for the sin and cos of these attributes to better represent their relationships."
   ]
  },
  {
   "cell_type": "code",
   "execution_count": 170,
   "metadata": {},
   "outputs": [],
   "source": [
    "# Create a sin and cos feature for month\n",
    "df['Sin_Month'] = np.sin(2 * np.pi * df['month'] / max(df['month'])) \n",
    "df['Cos_Month'] = np.cos(2 * np.pi * df['month'] / max(df['month']))\n",
    "\n",
    "# Create a sin and cos feature for day\n",
    "df['Sin_day'] = np.sin(2 * np.pi * df['day'] / max(df['day'])) \n",
    "df['Cos_day'] = np.cos(2 * np.pi * df['day'] / max(df['day']))"
   ]
  },
  {
   "cell_type": "code",
   "execution_count": 171,
   "metadata": {},
   "outputs": [
    {
     "data": {
      "image/png": "[encoded data removed]",
      "text/plain": [
       "<Figure size 432x288 with 1 Axes>"
      ]
     },
     "metadata": {
      "needs_background": "light"
     },
     "output_type": "display_data"
    }
   ],
   "source": [
    "# Scatter plot of Sin_Month and Cos_Month\n",
    "df.plot.scatter('Sin_Month', 'Cos_Month').set_aspect('equal')"
   ]
  },
  {
   "cell_type": "markdown",
   "metadata": {},
   "source": [
    "The above graph shows the new cyclical relationship between `Sin_Month` and `Cos_Month`."
   ]
  },
  {
   "cell_type": "code",
   "execution_count": 172,
   "metadata": {},
   "outputs": [
    {
     "data": {
      "image/png": "[encoded data removed]",
      "text/plain": [
       "<Figure size 432x288 with 1 Axes>"
      ]
     },
     "metadata": {
      "needs_background": "light"
     },
     "output_type": "display_data"
    }
   ],
   "source": [
    "# Scatter plot of Sin_day and Cos_day\n",
    "df.plot.scatter('Sin_day', 'Cos_day').set_aspect('equal')"
   ]
  },
  {
   "cell_type": "markdown",
   "metadata": {},
   "source": [
    "The above graph shows the new cyclical relationship between `Sin_day` and `Cos_day`."
   ]
  },
  {
   "cell_type": "code",
   "execution_count": 173,
   "metadata": {},
   "outputs": [
    {
     "data": {
      "text/html": [
       "<div>\n",
       "<style scoped>\n",
       "    .dataframe tbody tr th:only-of-type {\n",
       "        vertical-align: middle;\n",
       "    }\n",
       "\n",
       "    .dataframe tbody tr th {\n",
       "        vertical-align: top;\n",
       "    }\n",
       "\n",
       "    .dataframe thead th {\n",
       "        text-align: right;\n",
       "    }\n",
       "</style>\n",
       "<table border=\"1\" class=\"dataframe\">\n",
       "  <thead>\n",
       "    <tr style=\"text-align: right;\">\n",
       "      <th></th>\n",
       "      <th>age</th>\n",
       "      <th>balance</th>\n",
       "      <th>duration</th>\n",
       "      <th>campaign</th>\n",
       "      <th>pdays</th>\n",
       "      <th>job_blue-collar</th>\n",
       "      <th>job_entrepreneur</th>\n",
       "      <th>job_housemaid</th>\n",
       "      <th>job_management</th>\n",
       "      <th>job_retired</th>\n",
       "      <th>...</th>\n",
       "      <th>marital_single</th>\n",
       "      <th>default_yes</th>\n",
       "      <th>housing_yes</th>\n",
       "      <th>loan_yes</th>\n",
       "      <th>subscribed_yes</th>\n",
       "      <th>TotalContact</th>\n",
       "      <th>Sin_Month</th>\n",
       "      <th>Cos_Month</th>\n",
       "      <th>Sin_day</th>\n",
       "      <th>Cos_day</th>\n",
       "    </tr>\n",
       "  </thead>\n",
       "  <tbody>\n",
       "    <tr>\n",
       "      <th>1995</th>\n",
       "      <td>-1.713144</td>\n",
       "      <td>1.285967</td>\n",
       "      <td>0.867335</td>\n",
       "      <td>0.065650</td>\n",
       "      <td>4.607702e-07</td>\n",
       "      <td>0</td>\n",
       "      <td>0</td>\n",
       "      <td>0</td>\n",
       "      <td>0</td>\n",
       "      <td>0</td>\n",
       "      <td>...</td>\n",
       "      <td>1</td>\n",
       "      <td>0</td>\n",
       "      <td>0</td>\n",
       "      <td>0</td>\n",
       "      <td>1</td>\n",
       "      <td>0.290179</td>\n",
       "      <td>-1.0</td>\n",
       "      <td>-1.836970e-16</td>\n",
       "      <td>-0.101168</td>\n",
       "      <td>-0.994869</td>\n",
       "    </tr>\n",
       "    <tr>\n",
       "      <th>1996</th>\n",
       "      <td>-1.082682</td>\n",
       "      <td>0.574458</td>\n",
       "      <td>1.902473</td>\n",
       "      <td>0.065650</td>\n",
       "      <td>4.607702e-07</td>\n",
       "      <td>0</td>\n",
       "      <td>0</td>\n",
       "      <td>0</td>\n",
       "      <td>0</td>\n",
       "      <td>0</td>\n",
       "      <td>...</td>\n",
       "      <td>1</td>\n",
       "      <td>0</td>\n",
       "      <td>0</td>\n",
       "      <td>0</td>\n",
       "      <td>1</td>\n",
       "      <td>0.290179</td>\n",
       "      <td>-1.0</td>\n",
       "      <td>-1.836970e-16</td>\n",
       "      <td>-0.101168</td>\n",
       "      <td>-0.994869</td>\n",
       "    </tr>\n",
       "    <tr>\n",
       "      <th>1997</th>\n",
       "      <td>3.094133</td>\n",
       "      <td>0.911431</td>\n",
       "      <td>0.677293</td>\n",
       "      <td>-0.659767</td>\n",
       "      <td>4.607702e-07</td>\n",
       "      <td>0</td>\n",
       "      <td>0</td>\n",
       "      <td>0</td>\n",
       "      <td>0</td>\n",
       "      <td>1</td>\n",
       "      <td>...</td>\n",
       "      <td>0</td>\n",
       "      <td>0</td>\n",
       "      <td>0</td>\n",
       "      <td>0</td>\n",
       "      <td>1</td>\n",
       "      <td>0.003328</td>\n",
       "      <td>-1.0</td>\n",
       "      <td>-1.836970e-16</td>\n",
       "      <td>-0.299363</td>\n",
       "      <td>-0.954139</td>\n",
       "    </tr>\n",
       "    <tr>\n",
       "      <th>1998</th>\n",
       "      <td>0.335859</td>\n",
       "      <td>1.547107</td>\n",
       "      <td>0.571610</td>\n",
       "      <td>-0.659767</td>\n",
       "      <td>4.607702e-07</td>\n",
       "      <td>0</td>\n",
       "      <td>0</td>\n",
       "      <td>0</td>\n",
       "      <td>0</td>\n",
       "      <td>0</td>\n",
       "      <td>...</td>\n",
       "      <td>0</td>\n",
       "      <td>0</td>\n",
       "      <td>1</td>\n",
       "      <td>0</td>\n",
       "      <td>1</td>\n",
       "      <td>0.003328</td>\n",
       "      <td>-1.0</td>\n",
       "      <td>-1.836970e-16</td>\n",
       "      <td>-0.790776</td>\n",
       "      <td>-0.612106</td>\n",
       "    </tr>\n",
       "    <tr>\n",
       "      <th>1999</th>\n",
       "      <td>-0.136988</td>\n",
       "      <td>1.812451</td>\n",
       "      <td>0.625847</td>\n",
       "      <td>0.065650</td>\n",
       "      <td>4.607702e-07</td>\n",
       "      <td>0</td>\n",
       "      <td>1</td>\n",
       "      <td>0</td>\n",
       "      <td>0</td>\n",
       "      <td>0</td>\n",
       "      <td>...</td>\n",
       "      <td>0</td>\n",
       "      <td>0</td>\n",
       "      <td>0</td>\n",
       "      <td>0</td>\n",
       "      <td>1</td>\n",
       "      <td>0.290179</td>\n",
       "      <td>-1.0</td>\n",
       "      <td>-1.836970e-16</td>\n",
       "      <td>-0.968077</td>\n",
       "      <td>-0.250653</td>\n",
       "    </tr>\n",
       "  </tbody>\n",
       "</table>\n",
       "<p>5 rows × 35 columns</p>\n",
       "</div>"
      ],
      "text/plain": [
       "           age   balance  duration  campaign         pdays  job_blue-collar  \\\n",
       "1995 -1.713144  1.285967  0.867335  0.065650  4.607702e-07                0   \n",
       "1996 -1.082682  0.574458  1.902473  0.065650  4.607702e-07                0   \n",
       "1997  3.094133  0.911431  0.677293 -0.659767  4.607702e-07                0   \n",
       "1998  0.335859  1.547107  0.571610 -0.659767  4.607702e-07                0   \n",
       "1999 -0.136988  1.812451  0.625847  0.065650  4.607702e-07                0   \n",
       "\n",
       "      job_entrepreneur  job_housemaid  job_management  job_retired  ...  \\\n",
       "1995                 0              0               0            0  ...   \n",
       "1996                 0              0               0            0  ...   \n",
       "1997                 0              0               0            1  ...   \n",
       "1998                 0              0               0            0  ...   \n",
       "1999                 1              0               0            0  ...   \n",
       "\n",
       "      marital_single  default_yes  housing_yes  loan_yes  subscribed_yes  \\\n",
       "1995               1            0            0         0               1   \n",
       "1996               1            0            0         0               1   \n",
       "1997               0            0            0         0               1   \n",
       "1998               0            0            1         0               1   \n",
       "1999               0            0            0         0               1   \n",
       "\n",
       "      TotalContact  Sin_Month     Cos_Month   Sin_day   Cos_day  \n",
       "1995      0.290179       -1.0 -1.836970e-16 -0.101168 -0.994869  \n",
       "1996      0.290179       -1.0 -1.836970e-16 -0.101168 -0.994869  \n",
       "1997      0.003328       -1.0 -1.836970e-16 -0.299363 -0.954139  \n",
       "1998      0.003328       -1.0 -1.836970e-16 -0.790776 -0.612106  \n",
       "1999      0.290179       -1.0 -1.836970e-16 -0.968077 -0.250653  \n",
       "\n",
       "[5 rows x 35 columns]"
      ]
     },
     "execution_count": 173,
     "metadata": {},
     "output_type": "execute_result"
    }
   ],
   "source": [
    "# Drop the old previous column\n",
    "df.drop('previous', axis=1, inplace=True)\n",
    "\n",
    "# Drop the old month and day columns\n",
    "df.drop('month', axis=1, inplace=True)\n",
    "df.drop('day', axis=1, inplace=True)\n",
    "df.tail()"
   ]
  },
  {
   "cell_type": "markdown",
   "metadata": {},
   "source": [
    "Drop all the old columns as they are no longer needed"
   ]
  },
  {
   "cell_type": "markdown",
   "metadata": {},
   "source": [
    "#### Save CSV"
   ]
  },
  {
   "cell_type": "code",
   "execution_count": 174,
   "metadata": {},
   "outputs": [],
   "source": [
    "df.to_csv('bank_prepared.csv')"
   ]
  },
  {
   "cell_type": "markdown",
   "metadata": {},
   "source": [
    "Output the prepared dataset which can be used further for data mining processes and for the submission of etivity 2. "
   ]
  }
 ],
 "metadata": {
  "kernelspec": {
   "display_name": "Python 3",
   "language": "python",
   "name": "python3"
  },
  "language_info": {
   "codemirror_mode": {
    "name": "ipython",
    "version": 3
   },
   "file_extension": ".py",
   "mimetype": "text/x-python",
   "name": "python",
   "nbconvert_exporter": "python",
   "pygments_lexer": "ipython3",
   "version": "3.8.5"
  }
 },
 "nbformat": 4,
 "nbformat_minor": 4
}
