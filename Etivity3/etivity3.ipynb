{
 "cells": [
  {
   "cell_type": "markdown",
   "metadata": {},
   "source": [
    "# Etivity 3: _Clustering & Manifold Learning_\n",
    "**Student Name**: _Sean Morrissey_\n",
    "\n",
    "**Student ID**: _17222761_"
   ]
  },
  {
   "cell_type": "markdown",
   "metadata": {},
   "source": [
    "## Part 1: Imports & Dataset Setup"
   ]
  },
  {
   "cell_type": "code",
   "execution_count": 913,
   "metadata": {},
   "outputs": [],
   "source": [
    "import pandas as pd\n",
    "import numpy as np\n",
    "import matplotlib.pyplot as plt\n",
    "import matplotlib as mt\n",
    "from sklearn import manifold #needed for multidimensional scaling (MDS) and t-SNE\n",
    "from sklearn import cluster #needed for k-Means clustering\n",
    "from sklearn import preprocessing #needed for scaling attributes to the nterval [0,1]\n",
    "from sklearn.cluster import KMeans\n",
    "from sklearn.metrics import silhouette_score\n",
    "import random\n",
    "pd.options.mode.chained_assignment = None  # default='warn'"
   ]
  },
  {
   "cell_type": "code",
   "execution_count": 914,
   "metadata": {},
   "outputs": [
    {
     "name": "stdout",
     "output_type": "stream",
     "text": [
      "(number of examples, number of attributes):  (614, 16)\n"
     ]
    }
   ],
   "source": [
    "df = pd.read_csv(\"./loans_train_prepared-1.csv\")\n",
    "data = np.array(df.values, dtype=float)\n",
    "print('(number of examples, number of attributes): ', data.shape)"
   ]
  },
  {
   "cell_type": "markdown",
   "metadata": {},
   "source": [
    "The above cell reads in the dataset csv into a pandas frame and converts it into a numpy array.\n",
    "\n",
    "As you can see from the output, the data we are dealing with is in the shape 614 x 16 i.e. 614 rows and 16 columns."
   ]
  },
  {
   "cell_type": "code",
   "execution_count": 915,
   "metadata": {},
   "outputs": [],
   "source": [
    "colors = np.array(['lightblue', 'blue', 'lime', 'khaki', 'pink', 'green', 'purple', 'tomato', 'gold', 'brown', 'orange', 'red'])\n",
    "\n",
    "# points - a 2D array of (x,y) coordinates of data points\n",
    "# labels - an array of numeric labels in the interval [0..k-1], one for each point\n",
    "# centers - a 2D array of (x, y) coordinates of cluster centers\n",
    "# title - title of the plot\n",
    "\n",
    "\n",
    "def clustering_scatterplot(points, labels, centers, title):\n",
    "    n_clusters = np.unique(labels).size\n",
    "    for i in range(n_clusters):\n",
    "        h = plt.scatter(points[labels==i,0],\n",
    "                        points[labels==i,1], \n",
    "                        c=colors[i],\n",
    "                        label = 'cluster '+str(i))\n",
    "\n",
    "    # plot the centers of the clusters\n",
    "    if centers is not None:\n",
    "        plt.scatter(centers[:,0], centers[:,1], c='r', marker='*', s=500)\n",
    "\n",
    "    _ = plt.title(title)\n",
    "    _ = plt.legend()\n",
    "    _ = plt.xlabel('x')\n",
    "    _ = plt.ylabel('y')\n",
    "    \n",
    "def clustering_scatterplotDBSCAN(points, labels, title):\n",
    "    n_clusters = np.unique(labels).size\n",
    "    for i in range(n_clusters):\n",
    "        h = plt.scatter(points[labels==i-1,0],\n",
    "                        points[labels==i-1,1], \n",
    "                        c=colors[i],\n",
    "                        label = 'cluster '+str(i))\n",
    "\n",
    "    _ = plt.title(title)\n",
    "    _ = plt.legend()\n",
    "    _ = plt.xlabel('x')\n",
    "    _ = plt.ylabel('y')"
   ]
  },
  {
   "cell_type": "markdown",
   "metadata": {},
   "source": [
    "We create a function for plotting scatter plots of our clusters. This function is passed in all of the points which are plotted as dots and the centers of the clusters are plotted with stars.\n",
    "\n",
    "We also create a function for plotting scatter plots of our clusters for **DBSCAN**. The reason for needing a separate function is due to the **DBSCAN labels** starting from **-1** instead of **0**."
   ]
  },
  {
   "cell_type": "markdown",
   "metadata": {},
   "source": [
    "## Part 2: Investigating Various K Values"
   ]
  },
  {
   "cell_type": "code",
   "execution_count": 916,
   "metadata": {},
   "outputs": [],
   "source": [
    "k = 8"
   ]
  },
  {
   "cell_type": "markdown",
   "metadata": {},
   "source": [
    "The original guess for k was 8. The reasoning behind this was that the dataset contained 16 columns and so my thinking was that there would be a high amount of clusters due to the high number of potential variability between the attributes."
   ]
  },
  {
   "cell_type": "code",
   "execution_count": 917,
   "metadata": {},
   "outputs": [],
   "source": [
    "clustered_data_sklearn = cluster.KMeans(n_clusters=k, n_init=10, max_iter=300).fit(data)"
   ]
  },
  {
   "cell_type": "markdown",
   "metadata": {},
   "source": [
    "Create the clustered data by fitting the data to the K means algorithm."
   ]
  },
  {
   "cell_type": "code",
   "execution_count": 918,
   "metadata": {},
   "outputs": [],
   "source": [
    "data_and_centers = np.r_[data,clustered_data_sklearn.cluster_centers_]"
   ]
  },
  {
   "cell_type": "markdown",
   "metadata": {},
   "source": [
    "Concatenate the data and the 8 cluster centers together."
   ]
  },
  {
   "cell_type": "markdown",
   "metadata": {},
   "source": [
    "#### Multi-dimensional Scaling (MDS) for 8 Clusters"
   ]
  },
  {
   "cell_type": "code",
   "execution_count": 919,
   "metadata": {},
   "outputs": [
    {
     "name": "stdout",
     "output_type": "stream",
     "text": [
      "transformation complete\n"
     ]
    }
   ],
   "source": [
    "XYcoordinates = manifold.MDS(n_components=2).fit_transform(data_and_centers)\n",
    "print(\"transformation complete\")"
   ]
  },
  {
   "cell_type": "markdown",
   "metadata": {},
   "source": [
    "Get the X and Y coordinates of all the points and centers after completing manifold learning on the data and centers.\n",
    "\n",
    "Multidimensional scaling (MDS) seeks a low-dimensional representation of the data in which the distances respect well the distances in the original high-dimensional space."
   ]
  },
  {
   "cell_type": "code",
   "execution_count": 920,
   "metadata": {},
   "outputs": [
    {
     "data": {
      "image/png": "[encoded data removed]",
      "text/plain": [
       "<Figure size 432x288 with 1 Axes>"
      ]
     },
     "metadata": {
      "needs_background": "light"
     },
     "output_type": "display_data"
    }
   ],
   "source": [
    "clustering_scatterplot(points=XYcoordinates[:-k,:], \n",
    "                       labels=clustered_data_sklearn.labels_, \n",
    "                       centers=XYcoordinates[-k:,:], \n",
    "                       title='MDS')"
   ]
  },
  {
   "cell_type": "markdown",
   "metadata": {},
   "source": [
    "The plot of our data and centers using MDS with 8 clusters and k-means can be seen above."
   ]
  },
  {
   "cell_type": "markdown",
   "metadata": {},
   "source": [
    "#### t-distributed Stochastic Neighbor Embedding (t-SNE) for 8 Clusters"
   ]
  },
  {
   "cell_type": "code",
   "execution_count": 921,
   "metadata": {},
   "outputs": [
    {
     "name": "stdout",
     "output_type": "stream",
     "text": [
      "transformation complete\n"
     ]
    }
   ],
   "source": [
    "XYcoordinates = manifold.TSNE(n_components=2).fit_transform(data_and_centers)\n",
    "print(\"transformation complete\")"
   ]
  },
  {
   "cell_type": "markdown",
   "metadata": {},
   "source": [
    "Get the X and Y coordinates of all the points and centers after completing manifold learning on the data and centers.\n",
    "\n",
    "t-SNE (TSNE) converts affinities of data points to probabilities. The affinities in the original space are represented by Gaussian joint probabilities and the affinities in the embedded space are represented by Student’s t-distributions."
   ]
  },
  {
   "cell_type": "code",
   "execution_count": 922,
   "metadata": {},
   "outputs": [
    {
     "data": {
      "image/png": "[encoded data removed]",
      "text/plain": [
       "<Figure size 432x288 with 1 Axes>"
      ]
     },
     "metadata": {
      "needs_background": "light"
     },
     "output_type": "display_data"
    }
   ],
   "source": [
    "clustering_scatterplot(points=XYcoordinates[:-k,:], \n",
    "                       labels=clustered_data_sklearn.labels_,\n",
    "                       centers=XYcoordinates[-k:,:], \n",
    "                       title='TSNE')"
   ]
  },
  {
   "cell_type": "markdown",
   "metadata": {},
   "source": [
    "The plot of our data and centers using TSNE with 8 clusters and k-means can be seen above."
   ]
  },
  {
   "cell_type": "markdown",
   "metadata": {},
   "source": [
    "#### Isomap for 8 Clusters"
   ]
  },
  {
   "cell_type": "code",
   "execution_count": 923,
   "metadata": {},
   "outputs": [
    {
     "name": "stdout",
     "output_type": "stream",
     "text": [
      "transformation complete\n"
     ]
    }
   ],
   "source": [
    "XYcoordinates = manifold.Isomap(n_components=2).fit_transform(data_and_centers)\n",
    "print(\"transformation complete\")"
   ]
  },
  {
   "cell_type": "markdown",
   "metadata": {},
   "source": [
    "Get the X and Y coordinates of all the points and centers after completing manifold learning on the data and centers.\n",
    "\n",
    "Isomap can be viewed as an extension of Multi-dimensional Scaling (MDS) or Kernel PCA. Isomap seeks a lower-dimensional embedding which maintains geodesic distances between all points."
   ]
  },
  {
   "cell_type": "code",
   "execution_count": 924,
   "metadata": {},
   "outputs": [
    {
     "data": {
      "image/png": "[encoded data removed]",
      "text/plain": [
       "<Figure size 432x288 with 1 Axes>"
      ]
     },
     "metadata": {
      "needs_background": "light"
     },
     "output_type": "display_data"
    }
   ],
   "source": [
    "clustering_scatterplot(points=XYcoordinates[:-k,:], \n",
    "                       labels=clustered_data_sklearn.labels_,\n",
    "                       centers=XYcoordinates[-k:,:], \n",
    "                       title='ISOMAP')"
   ]
  },
  {
   "cell_type": "markdown",
   "metadata": {},
   "source": [
    "The plot of our data and centers using TSNE with 8 clusters and k-means can be seen above."
   ]
  },
  {
   "cell_type": "code",
   "execution_count": 925,
   "metadata": {},
   "outputs": [],
   "source": [
    "df['cluster8'] = pd.Series(clustered_data_sklearn.labels_, index=df.index)"
   ]
  },
  {
   "cell_type": "markdown",
   "metadata": {},
   "source": [
    "Add the cluster labels for **K=8** to the dataframe for later inspection."
   ]
  },
  {
   "cell_type": "code",
   "execution_count": 926,
   "metadata": {},
   "outputs": [
    {
     "data": {
      "text/html": [
       "<div>\n",
       "<style scoped>\n",
       "    .dataframe tbody tr th:only-of-type {\n",
       "        vertical-align: middle;\n",
       "    }\n",
       "\n",
       "    .dataframe tbody tr th {\n",
       "        vertical-align: top;\n",
       "    }\n",
       "\n",
       "    .dataframe thead th {\n",
       "        text-align: right;\n",
       "    }\n",
       "</style>\n",
       "<table border=\"1\" class=\"dataframe\">\n",
       "  <thead>\n",
       "    <tr style=\"text-align: right;\">\n",
       "      <th></th>\n",
       "      <th>Dependents</th>\n",
       "      <th>ApplicantIncome</th>\n",
       "      <th>LoanAmount</th>\n",
       "      <th>Loan_Amount_Term</th>\n",
       "      <th>Credit_History</th>\n",
       "      <th>Gender_Male</th>\n",
       "      <th>Gender_nan</th>\n",
       "      <th>Married_Yes</th>\n",
       "      <th>Married_nan</th>\n",
       "      <th>Self_Employed_Yes</th>\n",
       "      <th>Self_Employed_nan</th>\n",
       "      <th>Education_Not Graduate</th>\n",
       "      <th>Property_Area_Semiurban</th>\n",
       "      <th>Property_Area_Urban</th>\n",
       "      <th>Loan_Status_Y</th>\n",
       "      <th>TotalIncome</th>\n",
       "      <th>cluster8</th>\n",
       "    </tr>\n",
       "  </thead>\n",
       "  <tbody>\n",
       "    <tr>\n",
       "      <th>0</th>\n",
       "      <td>0.000000</td>\n",
       "      <td>1.084523</td>\n",
       "      <td>1.058140</td>\n",
       "      <td>0.75</td>\n",
       "      <td>1</td>\n",
       "      <td>1</td>\n",
       "      <td>0</td>\n",
       "      <td>0</td>\n",
       "      <td>0</td>\n",
       "      <td>0</td>\n",
       "      <td>0</td>\n",
       "      <td>0</td>\n",
       "      <td>0</td>\n",
       "      <td>1</td>\n",
       "      <td>1</td>\n",
       "      <td>0.841086</td>\n",
       "      <td>7</td>\n",
       "    </tr>\n",
       "    <tr>\n",
       "      <th>1</th>\n",
       "      <td>0.333333</td>\n",
       "      <td>0.925883</td>\n",
       "      <td>1.047319</td>\n",
       "      <td>0.75</td>\n",
       "      <td>1</td>\n",
       "      <td>1</td>\n",
       "      <td>0</td>\n",
       "      <td>1</td>\n",
       "      <td>0</td>\n",
       "      <td>0</td>\n",
       "      <td>0</td>\n",
       "      <td>0</td>\n",
       "      <td>0</td>\n",
       "      <td>0</td>\n",
       "      <td>0</td>\n",
       "      <td>0.871711</td>\n",
       "      <td>6</td>\n",
       "    </tr>\n",
       "    <tr>\n",
       "      <th>2</th>\n",
       "      <td>0.000000</td>\n",
       "      <td>0.683858</td>\n",
       "      <td>0.635920</td>\n",
       "      <td>0.75</td>\n",
       "      <td>1</td>\n",
       "      <td>1</td>\n",
       "      <td>0</td>\n",
       "      <td>1</td>\n",
       "      <td>0</td>\n",
       "      <td>1</td>\n",
       "      <td>0</td>\n",
       "      <td>0</td>\n",
       "      <td>0</td>\n",
       "      <td>1</td>\n",
       "      <td>1</td>\n",
       "      <td>0.385189</td>\n",
       "      <td>5</td>\n",
       "    </tr>\n",
       "    <tr>\n",
       "      <th>3</th>\n",
       "      <td>0.000000</td>\n",
       "      <td>0.608992</td>\n",
       "      <td>1.002824</td>\n",
       "      <td>0.75</td>\n",
       "      <td>1</td>\n",
       "      <td>1</td>\n",
       "      <td>0</td>\n",
       "      <td>1</td>\n",
       "      <td>0</td>\n",
       "      <td>0</td>\n",
       "      <td>0</td>\n",
       "      <td>1</td>\n",
       "      <td>0</td>\n",
       "      <td>1</td>\n",
       "      <td>1</td>\n",
       "      <td>0.717012</td>\n",
       "      <td>5</td>\n",
       "    </tr>\n",
       "    <tr>\n",
       "      <th>4</th>\n",
       "      <td>0.000000</td>\n",
       "      <td>1.101869</td>\n",
       "      <td>1.115650</td>\n",
       "      <td>0.75</td>\n",
       "      <td>1</td>\n",
       "      <td>1</td>\n",
       "      <td>0</td>\n",
       "      <td>0</td>\n",
       "      <td>0</td>\n",
       "      <td>0</td>\n",
       "      <td>0</td>\n",
       "      <td>0</td>\n",
       "      <td>0</td>\n",
       "      <td>1</td>\n",
       "      <td>1</td>\n",
       "      <td>0.860305</td>\n",
       "      <td>7</td>\n",
       "    </tr>\n",
       "  </tbody>\n",
       "</table>\n",
       "</div>"
      ],
      "text/plain": [
       "   Dependents  ApplicantIncome  LoanAmount  Loan_Amount_Term  Credit_History  \\\n",
       "0    0.000000         1.084523    1.058140              0.75               1   \n",
       "1    0.333333         0.925883    1.047319              0.75               1   \n",
       "2    0.000000         0.683858    0.635920              0.75               1   \n",
       "3    0.000000         0.608992    1.002824              0.75               1   \n",
       "4    0.000000         1.101869    1.115650              0.75               1   \n",
       "\n",
       "   Gender_Male  Gender_nan  Married_Yes  Married_nan  Self_Employed_Yes  \\\n",
       "0            1           0            0            0                  0   \n",
       "1            1           0            1            0                  0   \n",
       "2            1           0            1            0                  1   \n",
       "3            1           0            1            0                  0   \n",
       "4            1           0            0            0                  0   \n",
       "\n",
       "   Self_Employed_nan  Education_Not Graduate  Property_Area_Semiurban  \\\n",
       "0                  0                       0                        0   \n",
       "1                  0                       0                        0   \n",
       "2                  0                       0                        0   \n",
       "3                  0                       1                        0   \n",
       "4                  0                       0                        0   \n",
       "\n",
       "   Property_Area_Urban  Loan_Status_Y  TotalIncome  cluster8  \n",
       "0                    1              1     0.841086         7  \n",
       "1                    0              0     0.871711         6  \n",
       "2                    1              1     0.385189         5  \n",
       "3                    1              1     0.717012         5  \n",
       "4                    1              1     0.860305         7  "
      ]
     },
     "execution_count": 926,
     "metadata": {},
     "output_type": "execute_result"
    }
   ],
   "source": [
    "# Check the first 5 rows of the dataframe\n",
    "df.head()"
   ]
  },
  {
   "cell_type": "code",
   "execution_count": 927,
   "metadata": {},
   "outputs": [
    {
     "data": {
      "text/html": [
       "<div>\n",
       "<style scoped>\n",
       "    .dataframe tbody tr th:only-of-type {\n",
       "        vertical-align: middle;\n",
       "    }\n",
       "\n",
       "    .dataframe tbody tr th {\n",
       "        vertical-align: top;\n",
       "    }\n",
       "\n",
       "    .dataframe thead th {\n",
       "        text-align: right;\n",
       "    }\n",
       "</style>\n",
       "<table border=\"1\" class=\"dataframe\">\n",
       "  <thead>\n",
       "    <tr style=\"text-align: right;\">\n",
       "      <th></th>\n",
       "      <th>Dependents</th>\n",
       "      <th>ApplicantIncome</th>\n",
       "      <th>LoanAmount</th>\n",
       "      <th>Loan_Amount_Term</th>\n",
       "      <th>Credit_History</th>\n",
       "      <th>Gender_Male</th>\n",
       "      <th>Gender_nan</th>\n",
       "      <th>Married_Yes</th>\n",
       "      <th>Married_nan</th>\n",
       "      <th>Self_Employed_Yes</th>\n",
       "      <th>Self_Employed_nan</th>\n",
       "      <th>Education_Not Graduate</th>\n",
       "      <th>Property_Area_Semiurban</th>\n",
       "      <th>Property_Area_Urban</th>\n",
       "      <th>Loan_Status_Y</th>\n",
       "      <th>TotalIncome</th>\n",
       "      <th>cluster8</th>\n",
       "    </tr>\n",
       "  </thead>\n",
       "  <tbody>\n",
       "    <tr>\n",
       "      <th>609</th>\n",
       "      <td>0.000000</td>\n",
       "      <td>0.666409</td>\n",
       "      <td>0.676143</td>\n",
       "      <td>0.750</td>\n",
       "      <td>1</td>\n",
       "      <td>0</td>\n",
       "      <td>0</td>\n",
       "      <td>0</td>\n",
       "      <td>0</td>\n",
       "      <td>0</td>\n",
       "      <td>0</td>\n",
       "      <td>0</td>\n",
       "      <td>0</td>\n",
       "      <td>0</td>\n",
       "      <td>1</td>\n",
       "      <td>0.364708</td>\n",
       "      <td>0</td>\n",
       "    </tr>\n",
       "    <tr>\n",
       "      <th>610</th>\n",
       "      <td>1.000000</td>\n",
       "      <td>0.858916</td>\n",
       "      <td>0.395858</td>\n",
       "      <td>0.375</td>\n",
       "      <td>1</td>\n",
       "      <td>1</td>\n",
       "      <td>0</td>\n",
       "      <td>1</td>\n",
       "      <td>0</td>\n",
       "      <td>0</td>\n",
       "      <td>0</td>\n",
       "      <td>0</td>\n",
       "      <td>0</td>\n",
       "      <td>0</td>\n",
       "      <td>1</td>\n",
       "      <td>0.587496</td>\n",
       "      <td>6</td>\n",
       "    </tr>\n",
       "    <tr>\n",
       "      <th>611</th>\n",
       "      <td>0.333333</td>\n",
       "      <td>1.313719</td>\n",
       "      <td>1.566110</td>\n",
       "      <td>0.750</td>\n",
       "      <td>1</td>\n",
       "      <td>1</td>\n",
       "      <td>0</td>\n",
       "      <td>1</td>\n",
       "      <td>0</td>\n",
       "      <td>0</td>\n",
       "      <td>0</td>\n",
       "      <td>0</td>\n",
       "      <td>0</td>\n",
       "      <td>1</td>\n",
       "      <td>1</td>\n",
       "      <td>1.116075</td>\n",
       "      <td>5</td>\n",
       "    </tr>\n",
       "    <tr>\n",
       "      <th>612</th>\n",
       "      <td>0.666667</td>\n",
       "      <td>1.267616</td>\n",
       "      <td>1.325676</td>\n",
       "      <td>0.750</td>\n",
       "      <td>1</td>\n",
       "      <td>1</td>\n",
       "      <td>0</td>\n",
       "      <td>1</td>\n",
       "      <td>0</td>\n",
       "      <td>0</td>\n",
       "      <td>0</td>\n",
       "      <td>0</td>\n",
       "      <td>0</td>\n",
       "      <td>1</td>\n",
       "      <td>1</td>\n",
       "      <td>1.042256</td>\n",
       "      <td>5</td>\n",
       "    </tr>\n",
       "    <tr>\n",
       "      <th>613</th>\n",
       "      <td>0.000000</td>\n",
       "      <td>0.925883</td>\n",
       "      <td>1.074155</td>\n",
       "      <td>0.750</td>\n",
       "      <td>0</td>\n",
       "      <td>0</td>\n",
       "      <td>0</td>\n",
       "      <td>0</td>\n",
       "      <td>0</td>\n",
       "      <td>1</td>\n",
       "      <td>0</td>\n",
       "      <td>0</td>\n",
       "      <td>1</td>\n",
       "      <td>0</td>\n",
       "      <td>0</td>\n",
       "      <td>0.663523</td>\n",
       "      <td>0</td>\n",
       "    </tr>\n",
       "  </tbody>\n",
       "</table>\n",
       "</div>"
      ],
      "text/plain": [
       "     Dependents  ApplicantIncome  LoanAmount  Loan_Amount_Term  \\\n",
       "609    0.000000         0.666409    0.676143             0.750   \n",
       "610    1.000000         0.858916    0.395858             0.375   \n",
       "611    0.333333         1.313719    1.566110             0.750   \n",
       "612    0.666667         1.267616    1.325676             0.750   \n",
       "613    0.000000         0.925883    1.074155             0.750   \n",
       "\n",
       "     Credit_History  Gender_Male  Gender_nan  Married_Yes  Married_nan  \\\n",
       "609               1            0           0            0            0   \n",
       "610               1            1           0            1            0   \n",
       "611               1            1           0            1            0   \n",
       "612               1            1           0            1            0   \n",
       "613               0            0           0            0            0   \n",
       "\n",
       "     Self_Employed_Yes  Self_Employed_nan  Education_Not Graduate  \\\n",
       "609                  0                  0                       0   \n",
       "610                  0                  0                       0   \n",
       "611                  0                  0                       0   \n",
       "612                  0                  0                       0   \n",
       "613                  1                  0                       0   \n",
       "\n",
       "     Property_Area_Semiurban  Property_Area_Urban  Loan_Status_Y  TotalIncome  \\\n",
       "609                        0                    0              1     0.364708   \n",
       "610                        0                    0              1     0.587496   \n",
       "611                        0                    1              1     1.116075   \n",
       "612                        0                    1              1     1.042256   \n",
       "613                        1                    0              0     0.663523   \n",
       "\n",
       "     cluster8  \n",
       "609         0  \n",
       "610         6  \n",
       "611         5  \n",
       "612         5  \n",
       "613         0  "
      ]
     },
     "execution_count": 927,
     "metadata": {},
     "output_type": "execute_result"
    }
   ],
   "source": [
    "# Check the last 5 rows of the dataframe\n",
    "df.tail()"
   ]
  },
  {
   "cell_type": "markdown",
   "metadata": {},
   "source": [
    "#### Compute the mean value of each attribute for each cluster"
   ]
  },
  {
   "cell_type": "code",
   "execution_count": 928,
   "metadata": {},
   "outputs": [
    {
     "data": {
      "text/html": [
       "<div>\n",
       "<style scoped>\n",
       "    .dataframe tbody tr th:only-of-type {\n",
       "        vertical-align: middle;\n",
       "    }\n",
       "\n",
       "    .dataframe tbody tr th {\n",
       "        vertical-align: top;\n",
       "    }\n",
       "\n",
       "    .dataframe thead th {\n",
       "        text-align: right;\n",
       "    }\n",
       "</style>\n",
       "<table border=\"1\" class=\"dataframe\">\n",
       "  <thead>\n",
       "    <tr style=\"text-align: right;\">\n",
       "      <th></th>\n",
       "      <th>Dependents</th>\n",
       "      <th>ApplicantIncome</th>\n",
       "      <th>LoanAmount</th>\n",
       "      <th>Loan_Amount_Term</th>\n",
       "      <th>Credit_History</th>\n",
       "      <th>Gender_Male</th>\n",
       "      <th>Gender_nan</th>\n",
       "      <th>Married_Yes</th>\n",
       "      <th>Married_nan</th>\n",
       "      <th>Self_Employed_Yes</th>\n",
       "      <th>Self_Employed_nan</th>\n",
       "      <th>Education_Not Graduate</th>\n",
       "      <th>Property_Area_Semiurban</th>\n",
       "      <th>Property_Area_Urban</th>\n",
       "      <th>Loan_Status_Y</th>\n",
       "      <th>TotalIncome</th>\n",
       "    </tr>\n",
       "    <tr>\n",
       "      <th>cluster8</th>\n",
       "      <th></th>\n",
       "      <th></th>\n",
       "      <th></th>\n",
       "      <th></th>\n",
       "      <th></th>\n",
       "      <th></th>\n",
       "      <th></th>\n",
       "      <th></th>\n",
       "      <th></th>\n",
       "      <th></th>\n",
       "      <th></th>\n",
       "      <th></th>\n",
       "      <th></th>\n",
       "      <th></th>\n",
       "      <th></th>\n",
       "      <th></th>\n",
       "    </tr>\n",
       "  </thead>\n",
       "  <tbody>\n",
       "    <tr>\n",
       "      <th>0</th>\n",
       "      <td>0.094017</td>\n",
       "      <td>0.876245</td>\n",
       "      <td>0.989884</td>\n",
       "      <td>0.742949</td>\n",
       "      <td>0.897436</td>\n",
       "      <td>0.358974</td>\n",
       "      <td>0.025641</td>\n",
       "      <td>0.000000</td>\n",
       "      <td>0.025641</td>\n",
       "      <td>0.141026</td>\n",
       "      <td>0.064103</td>\n",
       "      <td>0.064103</td>\n",
       "      <td>0.820513</td>\n",
       "      <td>0.000000</td>\n",
       "      <td>0.717949</td>\n",
       "      <td>0.728429</td>\n",
       "    </tr>\n",
       "    <tr>\n",
       "      <th>1</th>\n",
       "      <td>0.306667</td>\n",
       "      <td>0.768975</td>\n",
       "      <td>0.959204</td>\n",
       "      <td>0.717667</td>\n",
       "      <td>0.986667</td>\n",
       "      <td>0.880000</td>\n",
       "      <td>0.000000</td>\n",
       "      <td>0.640000</td>\n",
       "      <td>0.000000</td>\n",
       "      <td>0.120000</td>\n",
       "      <td>0.066667</td>\n",
       "      <td>1.000000</td>\n",
       "      <td>0.466667</td>\n",
       "      <td>0.000000</td>\n",
       "      <td>0.746667</td>\n",
       "      <td>0.686882</td>\n",
       "    </tr>\n",
       "    <tr>\n",
       "      <th>2</th>\n",
       "      <td>0.361111</td>\n",
       "      <td>1.875578</td>\n",
       "      <td>1.671107</td>\n",
       "      <td>0.703125</td>\n",
       "      <td>0.833333</td>\n",
       "      <td>0.750000</td>\n",
       "      <td>0.083333</td>\n",
       "      <td>0.750000</td>\n",
       "      <td>0.000000</td>\n",
       "      <td>0.354167</td>\n",
       "      <td>0.062500</td>\n",
       "      <td>0.041667</td>\n",
       "      <td>0.291667</td>\n",
       "      <td>0.354167</td>\n",
       "      <td>0.604167</td>\n",
       "      <td>1.846064</td>\n",
       "    </tr>\n",
       "    <tr>\n",
       "      <th>3</th>\n",
       "      <td>0.296875</td>\n",
       "      <td>0.806441</td>\n",
       "      <td>1.029449</td>\n",
       "      <td>0.714844</td>\n",
       "      <td>0.000000</td>\n",
       "      <td>0.890625</td>\n",
       "      <td>0.046875</td>\n",
       "      <td>0.750000</td>\n",
       "      <td>0.000000</td>\n",
       "      <td>0.109375</td>\n",
       "      <td>0.015625</td>\n",
       "      <td>0.375000</td>\n",
       "      <td>0.281250</td>\n",
       "      <td>0.343750</td>\n",
       "      <td>0.000000</td>\n",
       "      <td>0.760236</td>\n",
       "    </tr>\n",
       "    <tr>\n",
       "      <th>4</th>\n",
       "      <td>0.271242</td>\n",
       "      <td>0.873745</td>\n",
       "      <td>1.110424</td>\n",
       "      <td>0.722304</td>\n",
       "      <td>1.000000</td>\n",
       "      <td>0.852941</td>\n",
       "      <td>0.009804</td>\n",
       "      <td>1.000000</td>\n",
       "      <td>0.000000</td>\n",
       "      <td>0.117647</td>\n",
       "      <td>0.029412</td>\n",
       "      <td>0.000000</td>\n",
       "      <td>1.000000</td>\n",
       "      <td>0.000000</td>\n",
       "      <td>0.911765</td>\n",
       "      <td>0.856940</td>\n",
       "    </tr>\n",
       "    <tr>\n",
       "      <th>5</th>\n",
       "      <td>0.359736</td>\n",
       "      <td>0.827794</td>\n",
       "      <td>1.044058</td>\n",
       "      <td>0.680198</td>\n",
       "      <td>0.990099</td>\n",
       "      <td>0.980198</td>\n",
       "      <td>0.000000</td>\n",
       "      <td>1.000000</td>\n",
       "      <td>0.000000</td>\n",
       "      <td>0.099010</td>\n",
       "      <td>0.059406</td>\n",
       "      <td>0.217822</td>\n",
       "      <td>0.000000</td>\n",
       "      <td>1.000000</td>\n",
       "      <td>0.811881</td>\n",
       "      <td>0.801853</td>\n",
       "    </tr>\n",
       "    <tr>\n",
       "      <th>6</th>\n",
       "      <td>0.226190</td>\n",
       "      <td>0.858446</td>\n",
       "      <td>1.096759</td>\n",
       "      <td>0.708036</td>\n",
       "      <td>0.976190</td>\n",
       "      <td>0.952381</td>\n",
       "      <td>0.023810</td>\n",
       "      <td>0.738095</td>\n",
       "      <td>0.000000</td>\n",
       "      <td>0.130952</td>\n",
       "      <td>0.059524</td>\n",
       "      <td>0.000000</td>\n",
       "      <td>0.000000</td>\n",
       "      <td>0.000000</td>\n",
       "      <td>0.797619</td>\n",
       "      <td>0.878851</td>\n",
       "    </tr>\n",
       "    <tr>\n",
       "      <th>7</th>\n",
       "      <td>0.043011</td>\n",
       "      <td>0.811069</td>\n",
       "      <td>0.882426</td>\n",
       "      <td>0.723790</td>\n",
       "      <td>0.919355</td>\n",
       "      <td>0.580645</td>\n",
       "      <td>0.016129</td>\n",
       "      <td>0.016129</td>\n",
       "      <td>0.016129</td>\n",
       "      <td>0.080645</td>\n",
       "      <td>0.064516</td>\n",
       "      <td>0.096774</td>\n",
       "      <td>0.000000</td>\n",
       "      <td>1.000000</td>\n",
       "      <td>0.629032</td>\n",
       "      <td>0.675335</td>\n",
       "    </tr>\n",
       "  </tbody>\n",
       "</table>\n",
       "</div>"
      ],
      "text/plain": [
       "          Dependents  ApplicantIncome  LoanAmount  Loan_Amount_Term  \\\n",
       "cluster8                                                              \n",
       "0           0.094017         0.876245    0.989884          0.742949   \n",
       "1           0.306667         0.768975    0.959204          0.717667   \n",
       "2           0.361111         1.875578    1.671107          0.703125   \n",
       "3           0.296875         0.806441    1.029449          0.714844   \n",
       "4           0.271242         0.873745    1.110424          0.722304   \n",
       "5           0.359736         0.827794    1.044058          0.680198   \n",
       "6           0.226190         0.858446    1.096759          0.708036   \n",
       "7           0.043011         0.811069    0.882426          0.723790   \n",
       "\n",
       "          Credit_History  Gender_Male  Gender_nan  Married_Yes  Married_nan  \\\n",
       "cluster8                                                                      \n",
       "0               0.897436     0.358974    0.025641     0.000000     0.025641   \n",
       "1               0.986667     0.880000    0.000000     0.640000     0.000000   \n",
       "2               0.833333     0.750000    0.083333     0.750000     0.000000   \n",
       "3               0.000000     0.890625    0.046875     0.750000     0.000000   \n",
       "4               1.000000     0.852941    0.009804     1.000000     0.000000   \n",
       "5               0.990099     0.980198    0.000000     1.000000     0.000000   \n",
       "6               0.976190     0.952381    0.023810     0.738095     0.000000   \n",
       "7               0.919355     0.580645    0.016129     0.016129     0.016129   \n",
       "\n",
       "          Self_Employed_Yes  Self_Employed_nan  Education_Not Graduate  \\\n",
       "cluster8                                                                 \n",
       "0                  0.141026           0.064103                0.064103   \n",
       "1                  0.120000           0.066667                1.000000   \n",
       "2                  0.354167           0.062500                0.041667   \n",
       "3                  0.109375           0.015625                0.375000   \n",
       "4                  0.117647           0.029412                0.000000   \n",
       "5                  0.099010           0.059406                0.217822   \n",
       "6                  0.130952           0.059524                0.000000   \n",
       "7                  0.080645           0.064516                0.096774   \n",
       "\n",
       "          Property_Area_Semiurban  Property_Area_Urban  Loan_Status_Y  \\\n",
       "cluster8                                                                \n",
       "0                        0.820513             0.000000       0.717949   \n",
       "1                        0.466667             0.000000       0.746667   \n",
       "2                        0.291667             0.354167       0.604167   \n",
       "3                        0.281250             0.343750       0.000000   \n",
       "4                        1.000000             0.000000       0.911765   \n",
       "5                        0.000000             1.000000       0.811881   \n",
       "6                        0.000000             0.000000       0.797619   \n",
       "7                        0.000000             1.000000       0.629032   \n",
       "\n",
       "          TotalIncome  \n",
       "cluster8               \n",
       "0            0.728429  \n",
       "1            0.686882  \n",
       "2            1.846064  \n",
       "3            0.760236  \n",
       "4            0.856940  \n",
       "5            0.801853  \n",
       "6            0.878851  \n",
       "7            0.675335  "
      ]
     },
     "execution_count": 928,
     "metadata": {},
     "output_type": "execute_result"
    }
   ],
   "source": [
    "df.groupby('cluster8').mean()"
   ]
  },
  {
   "cell_type": "markdown",
   "metadata": {},
   "source": [
    "#### Conclusion\n",
    "By looking at the means of all of the columns for each cluster above it is clear to see:\n",
    "- Cluster 2 has the largest number of dependents while cluster 7 has the lowest.\n",
    "- Notably Cluster 2 also has the highest total income while cluster 7 has the lowest total income.\n",
    "- Cluster 5 has the shortest loan amount term.\n",
    "- All of Cluster 3 has no credit history while all of cluster 4 has a credit history\n",
    "- Cluster 0 is the most female dominated cluster while cluster 5 is almost completely male.\n",
    "- Cluster 4 and 6 are fully graduates from education but cluster 1 is entirely not graduates from education.\n",
    "- All of cluster 3's loan status is no.\n",
    "\n",
    "*Note that this conclusion is true for this run of k-Means. If the code is executed again, k-Means may produce either different clusters or the same clusters but in a different order.*"
   ]
  },
  {
   "cell_type": "markdown",
   "metadata": {},
   "source": [
    "## Part 3: Choosing the Best Value of K"
   ]
  },
  {
   "cell_type": "markdown",
   "metadata": {},
   "source": [
    "#### Elbow Criterion Method"
   ]
  },
  {
   "cell_type": "code",
   "execution_count": 929,
   "metadata": {},
   "outputs": [
    {
     "data": {
      "image/png": "[encoded data removed]",
      "text/plain": [
       "<Figure size 432x288 with 1 Axes>"
      ]
     },
     "metadata": {
      "needs_background": "light"
     },
     "output_type": "display_data"
    }
   ],
   "source": [
    "X = pd.read_csv(\"./loans_train_prepared-1.csv\")\n",
    "#print(X)\n",
    "np_data = X[X.columns.difference(['Loan_Status_Y'])]\n",
    "sse = {}\n",
    "for k in range(1, 10):\n",
    "    kmeans = KMeans(n_clusters=k, max_iter=1000).fit(np_data)\n",
    "    np_data[\"clusters\"] = kmeans.labels_\n",
    "    #print(np_data[\"clusters\"])\n",
    "    sse[k] = kmeans.inertia_ # Inertia: Sum of distances of samples to their closest cluster center\n",
    "plt.figure()\n",
    "plt.plot(list(sse.keys()), list(sse.values()))\n",
    "plt.xlabel(\"Number of cluster\")\n",
    "plt.ylabel(\"SSE\")\n",
    "plt.show()"
   ]
  },
  {
   "cell_type": "markdown",
   "metadata": {},
   "source": [
    "The elbow method aims to find an optimal value of K by plotting the **SSE** (sum of squared errors) for K-means using a range of different numbers of clusters.\n",
    "\n",
    "As we can see from the above plot an elbow can be seen at roughly **2** and **3** but the **SSE** still remains high. An elbow can also be seen at **6** with a big drop in **SSE** from the previous number of clusters. This suggests that **6** is the optimal lowest value for **K**.\n",
    "\n",
    "*Note that this conclusion is true for this run of k-Means. If the code is executed again, k-Means may produce either different clusters or the same clusters but in a different order.*"
   ]
  },
  {
   "cell_type": "markdown",
   "metadata": {},
   "source": [
    "#### Silhouette Coefficient Method"
   ]
  },
  {
   "cell_type": "code",
   "execution_count": 981,
   "metadata": {},
   "outputs": [
    {
     "name": "stdout",
     "output_type": "stream",
     "text": [
      "For n_clusters=2, The Silhouette Coefficient is 0.15345667241994654\n",
      "For n_clusters=3, The Silhouette Coefficient is 0.15551634932637773\n",
      "For n_clusters=4, The Silhouette Coefficient is 0.1545198330641723\n",
      "For n_clusters=5, The Silhouette Coefficient is 0.1582698507624147\n",
      "For n_clusters=6, The Silhouette Coefficient is 0.16202678503215284\n",
      "For n_clusters=7, The Silhouette Coefficient is 0.1491088769865528\n",
      "For n_clusters=8, The Silhouette Coefficient is 0.16812785496821658\n",
      "For n_clusters=9, The Silhouette Coefficient is 0.1708650175456544\n",
      "For n_clusters=10, The Silhouette Coefficient is 0.1702836953724961\n"
     ]
    }
   ],
   "source": [
    "df = pd.read_csv(\"./loans_train_prepared-1.csv\")\n",
    "X = np.array(df.values, dtype=float)\n",
    "y = np.array(df.values, dtype=float)\n",
    "best = 0\n",
    "for n_cluster in range(2, 11):\n",
    "    kmeans = KMeans(n_clusters=n_cluster).fit(X)\n",
    "    label = kmeans.labels_\n",
    "    sil_coeff = silhouette_score(X, label, metric='euclidean')\n",
    "    print(\"For n_clusters={}, The Silhouette Coefficient is {}\".format(n_cluster, sil_coeff))"
   ]
  },
  {
   "cell_type": "markdown",
   "metadata": {},
   "source": [
    "The Silhouette Coefficient method works by computing Silhouette Coefficients for different values of K for K-means, with a higher Silhouette Coefficient score relating to a model with better-defined clusters. The Silhouette Coefficient is defined for each sample and is composed of two scores: `\n",
    "- The mean distance between a sample and all other points in the same class.\n",
    "- The mean distance between a sample and all other points in the next nearest cluster.\n",
    "\n",
    "From the above output we can see that the **K=6** has the largest jump from the previous value for **K** and that also the values for **K** after 6 are only marginally better, if not worse. So again the suggested value for **K** is **6**.\n",
    "\n",
    "*Note that this conclusion is true for this run of k-Means. If the code is executed again, k-Means may produce either different clusters or the same clusters but in a different order.*"
   ]
  },
  {
   "cell_type": "markdown",
   "metadata": {},
   "source": [
    "### Part 3.1: Recomputing K-Means with Different K Value"
   ]
  },
  {
   "cell_type": "code",
   "execution_count": 931,
   "metadata": {},
   "outputs": [],
   "source": [
    "k = 6"
   ]
  },
  {
   "cell_type": "code",
   "execution_count": 932,
   "metadata": {},
   "outputs": [],
   "source": [
    "clustered_data_sklearn = cluster.KMeans(n_clusters=k, n_init=10, max_iter=300).fit(data)"
   ]
  },
  {
   "cell_type": "markdown",
   "metadata": {},
   "source": [
    "Create the clustered data by fitting the data to the K means algorithm."
   ]
  },
  {
   "cell_type": "code",
   "execution_count": 933,
   "metadata": {},
   "outputs": [],
   "source": [
    "data_and_centers = np.r_[data,clustered_data_sklearn.cluster_centers_]"
   ]
  },
  {
   "cell_type": "markdown",
   "metadata": {},
   "source": [
    "Concatenate the data and the 6 cluster centers together."
   ]
  },
  {
   "cell_type": "markdown",
   "metadata": {},
   "source": [
    "#### Multi-dimensional Scaling (MDS) for 6 Clusters"
   ]
  },
  {
   "cell_type": "code",
   "execution_count": 934,
   "metadata": {},
   "outputs": [
    {
     "name": "stdout",
     "output_type": "stream",
     "text": [
      "transformation complete\n"
     ]
    }
   ],
   "source": [
    "XYcoordinates = manifold.MDS(n_components=2).fit_transform(data_and_centers)\n",
    "print(\"transformation complete\")"
   ]
  },
  {
   "cell_type": "markdown",
   "metadata": {},
   "source": [
    "Get the X and Y coordinates of all the points and centers after completing manifold learning on the data and centers.\n"
   ]
  },
  {
   "cell_type": "code",
   "execution_count": 935,
   "metadata": {},
   "outputs": [
    {
     "data": {
      "image/png": "[encoded data removed]",
      "text/plain": [
       "<Figure size 432x288 with 1 Axes>"
      ]
     },
     "metadata": {
      "needs_background": "light"
     },
     "output_type": "display_data"
    }
   ],
   "source": [
    "clustering_scatterplot(points=XYcoordinates[:-k,:], \n",
    "                       labels=clustered_data_sklearn.labels_, \n",
    "                       centers=XYcoordinates[-k:,:], \n",
    "                       title='MDS')"
   ]
  },
  {
   "cell_type": "markdown",
   "metadata": {},
   "source": [
    "As we can see from the above plot the use of 6 clusters gives us a better looking plot/result than using 8 as there is less of an overlap between clusters."
   ]
  },
  {
   "cell_type": "markdown",
   "metadata": {},
   "source": [
    "#### t-distributed Stochastic Neighbor Embedding (t-SNE) for 6 Clusters"
   ]
  },
  {
   "cell_type": "code",
   "execution_count": 936,
   "metadata": {},
   "outputs": [
    {
     "name": "stdout",
     "output_type": "stream",
     "text": [
      "transformation complete\n"
     ]
    }
   ],
   "source": [
    "XYcoordinates = manifold.TSNE(n_components=2).fit_transform(data_and_centers)\n",
    "print(\"transformation complete\")"
   ]
  },
  {
   "cell_type": "markdown",
   "metadata": {},
   "source": [
    "Get the X and Y coordinates of all the points and centers after completing manifold learning on the data and centers.\n"
   ]
  },
  {
   "cell_type": "code",
   "execution_count": 937,
   "metadata": {},
   "outputs": [
    {
     "data": {
      "image/png": "[encoded data removed]",
      "text/plain": [
       "<Figure size 432x288 with 1 Axes>"
      ]
     },
     "metadata": {
      "needs_background": "light"
     },
     "output_type": "display_data"
    }
   ],
   "source": [
    "clustering_scatterplot(points=XYcoordinates[:-k,:], \n",
    "                       labels=clustered_data_sklearn.labels_,\n",
    "                       centers=XYcoordinates[-k:,:], \n",
    "                       title='TSNE')"
   ]
  },
  {
   "cell_type": "markdown",
   "metadata": {},
   "source": [
    "As we can see from the above plot the use of 6 clusters gives us a better looking plot/result than using 8 as there is less of an overlap between clusters."
   ]
  },
  {
   "cell_type": "markdown",
   "metadata": {},
   "source": [
    "#### Isomap for 6 Clusters"
   ]
  },
  {
   "cell_type": "code",
   "execution_count": 938,
   "metadata": {},
   "outputs": [
    {
     "name": "stdout",
     "output_type": "stream",
     "text": [
      "transformation complete\n"
     ]
    }
   ],
   "source": [
    "XYcoordinates = manifold.Isomap(n_components=2).fit_transform(data_and_centers)\n",
    "print(\"transformation complete\")"
   ]
  },
  {
   "cell_type": "markdown",
   "metadata": {},
   "source": [
    "Get the X and Y coordinates of all the points and centers after completing manifold learning on the data and centers.\n"
   ]
  },
  {
   "cell_type": "code",
   "execution_count": 939,
   "metadata": {},
   "outputs": [
    {
     "data": {
      "image/png": "[encoded data removed]",
      "text/plain": [
       "<Figure size 432x288 with 1 Axes>"
      ]
     },
     "metadata": {
      "needs_background": "light"
     },
     "output_type": "display_data"
    }
   ],
   "source": [
    "clustering_scatterplot(points=XYcoordinates[:-k,:], \n",
    "                       labels=clustered_data_sklearn.labels_,\n",
    "                       centers=XYcoordinates[-k:,:], \n",
    "                       title='ISOMAP')"
   ]
  },
  {
   "cell_type": "markdown",
   "metadata": {},
   "source": [
    "As we can see from the above plot the use of 6 clusters gives us a better looking plot/result than using 8 as there is less of an overlap between clusters."
   ]
  },
  {
   "cell_type": "code",
   "execution_count": 940,
   "metadata": {},
   "outputs": [],
   "source": [
    "df['cluster6'] = pd.Series(clustered_data_sklearn.labels_, index=df.index)"
   ]
  },
  {
   "cell_type": "markdown",
   "metadata": {},
   "source": [
    "Add the cluster labels for **K=6** to the dataframe for later inspection."
   ]
  },
  {
   "cell_type": "markdown",
   "metadata": {},
   "source": [
    "#### Compute the mean value of each attribute for each cluster"
   ]
  },
  {
   "cell_type": "code",
   "execution_count": 941,
   "metadata": {},
   "outputs": [
    {
     "data": {
      "text/html": [
       "<div>\n",
       "<style scoped>\n",
       "    .dataframe tbody tr th:only-of-type {\n",
       "        vertical-align: middle;\n",
       "    }\n",
       "\n",
       "    .dataframe tbody tr th {\n",
       "        vertical-align: top;\n",
       "    }\n",
       "\n",
       "    .dataframe thead th {\n",
       "        text-align: right;\n",
       "    }\n",
       "</style>\n",
       "<table border=\"1\" class=\"dataframe\">\n",
       "  <thead>\n",
       "    <tr style=\"text-align: right;\">\n",
       "      <th></th>\n",
       "      <th>Dependents</th>\n",
       "      <th>ApplicantIncome</th>\n",
       "      <th>LoanAmount</th>\n",
       "      <th>Loan_Amount_Term</th>\n",
       "      <th>Credit_History</th>\n",
       "      <th>Gender_Male</th>\n",
       "      <th>Gender_nan</th>\n",
       "      <th>Married_Yes</th>\n",
       "      <th>Married_nan</th>\n",
       "      <th>Self_Employed_Yes</th>\n",
       "      <th>Self_Employed_nan</th>\n",
       "      <th>Education_Not Graduate</th>\n",
       "      <th>Property_Area_Semiurban</th>\n",
       "      <th>Property_Area_Urban</th>\n",
       "      <th>Loan_Status_Y</th>\n",
       "      <th>TotalIncome</th>\n",
       "    </tr>\n",
       "    <tr>\n",
       "      <th>cluster6</th>\n",
       "      <th></th>\n",
       "      <th></th>\n",
       "      <th></th>\n",
       "      <th></th>\n",
       "      <th></th>\n",
       "      <th></th>\n",
       "      <th></th>\n",
       "      <th></th>\n",
       "      <th></th>\n",
       "      <th></th>\n",
       "      <th></th>\n",
       "      <th></th>\n",
       "      <th></th>\n",
       "      <th></th>\n",
       "      <th></th>\n",
       "      <th></th>\n",
       "    </tr>\n",
       "  </thead>\n",
       "  <tbody>\n",
       "    <tr>\n",
       "      <th>0</th>\n",
       "      <td>0.386905</td>\n",
       "      <td>1.813192</td>\n",
       "      <td>1.617293</td>\n",
       "      <td>0.707589</td>\n",
       "      <td>0.839286</td>\n",
       "      <td>0.767857</td>\n",
       "      <td>0.089286</td>\n",
       "      <td>0.696429</td>\n",
       "      <td>0.000000</td>\n",
       "      <td>0.375000</td>\n",
       "      <td>0.053571</td>\n",
       "      <td>0.035714</td>\n",
       "      <td>0.339286</td>\n",
       "      <td>0.267857</td>\n",
       "      <td>0.607143</td>\n",
       "      <td>1.774471</td>\n",
       "    </tr>\n",
       "    <tr>\n",
       "      <th>1</th>\n",
       "      <td>0.323353</td>\n",
       "      <td>0.837997</td>\n",
       "      <td>1.085406</td>\n",
       "      <td>0.718114</td>\n",
       "      <td>0.994012</td>\n",
       "      <td>0.976048</td>\n",
       "      <td>0.005988</td>\n",
       "      <td>1.000000</td>\n",
       "      <td>0.000000</td>\n",
       "      <td>0.131737</td>\n",
       "      <td>0.041916</td>\n",
       "      <td>0.221557</td>\n",
       "      <td>0.640719</td>\n",
       "      <td>0.000000</td>\n",
       "      <td>0.928144</td>\n",
       "      <td>0.830134</td>\n",
       "    </tr>\n",
       "    <tr>\n",
       "      <th>2</th>\n",
       "      <td>0.355556</td>\n",
       "      <td>0.850892</td>\n",
       "      <td>1.053945</td>\n",
       "      <td>0.682857</td>\n",
       "      <td>0.990476</td>\n",
       "      <td>0.971429</td>\n",
       "      <td>0.000000</td>\n",
       "      <td>1.000000</td>\n",
       "      <td>0.000000</td>\n",
       "      <td>0.095238</td>\n",
       "      <td>0.057143</td>\n",
       "      <td>0.209524</td>\n",
       "      <td>0.000000</td>\n",
       "      <td>1.000000</td>\n",
       "      <td>0.809524</td>\n",
       "      <td>0.821605</td>\n",
       "    </tr>\n",
       "    <tr>\n",
       "      <th>3</th>\n",
       "      <td>0.277778</td>\n",
       "      <td>0.788666</td>\n",
       "      <td>1.015671</td>\n",
       "      <td>0.713056</td>\n",
       "      <td>0.233333</td>\n",
       "      <td>0.833333</td>\n",
       "      <td>0.044444</td>\n",
       "      <td>0.777778</td>\n",
       "      <td>0.000000</td>\n",
       "      <td>0.077778</td>\n",
       "      <td>0.022222</td>\n",
       "      <td>0.366667</td>\n",
       "      <td>0.200000</td>\n",
       "      <td>0.288889</td>\n",
       "      <td>0.011111</td>\n",
       "      <td>0.727802</td>\n",
       "    </tr>\n",
       "    <tr>\n",
       "      <th>4</th>\n",
       "      <td>0.093633</td>\n",
       "      <td>0.812183</td>\n",
       "      <td>0.968430</td>\n",
       "      <td>0.717135</td>\n",
       "      <td>0.910112</td>\n",
       "      <td>0.415730</td>\n",
       "      <td>0.022472</td>\n",
       "      <td>0.191011</td>\n",
       "      <td>0.022472</td>\n",
       "      <td>0.134831</td>\n",
       "      <td>0.067416</td>\n",
       "      <td>0.213483</td>\n",
       "      <td>1.000000</td>\n",
       "      <td>0.000000</td>\n",
       "      <td>0.797753</td>\n",
       "      <td>0.710163</td>\n",
       "    </tr>\n",
       "    <tr>\n",
       "      <th>5</th>\n",
       "      <td>0.056075</td>\n",
       "      <td>0.828908</td>\n",
       "      <td>0.941162</td>\n",
       "      <td>0.735981</td>\n",
       "      <td>0.990654</td>\n",
       "      <td>0.644860</td>\n",
       "      <td>0.009346</td>\n",
       "      <td>0.000000</td>\n",
       "      <td>0.009346</td>\n",
       "      <td>0.093458</td>\n",
       "      <td>0.074766</td>\n",
       "      <td>0.196262</td>\n",
       "      <td>0.000000</td>\n",
       "      <td>0.523364</td>\n",
       "      <td>0.710280</td>\n",
       "      <td>0.716927</td>\n",
       "    </tr>\n",
       "  </tbody>\n",
       "</table>\n",
       "</div>"
      ],
      "text/plain": [
       "          Dependents  ApplicantIncome  LoanAmount  Loan_Amount_Term  \\\n",
       "cluster6                                                              \n",
       "0           0.386905         1.813192    1.617293          0.707589   \n",
       "1           0.323353         0.837997    1.085406          0.718114   \n",
       "2           0.355556         0.850892    1.053945          0.682857   \n",
       "3           0.277778         0.788666    1.015671          0.713056   \n",
       "4           0.093633         0.812183    0.968430          0.717135   \n",
       "5           0.056075         0.828908    0.941162          0.735981   \n",
       "\n",
       "          Credit_History  Gender_Male  Gender_nan  Married_Yes  Married_nan  \\\n",
       "cluster6                                                                      \n",
       "0               0.839286     0.767857    0.089286     0.696429     0.000000   \n",
       "1               0.994012     0.976048    0.005988     1.000000     0.000000   \n",
       "2               0.990476     0.971429    0.000000     1.000000     0.000000   \n",
       "3               0.233333     0.833333    0.044444     0.777778     0.000000   \n",
       "4               0.910112     0.415730    0.022472     0.191011     0.022472   \n",
       "5               0.990654     0.644860    0.009346     0.000000     0.009346   \n",
       "\n",
       "          Self_Employed_Yes  Self_Employed_nan  Education_Not Graduate  \\\n",
       "cluster6                                                                 \n",
       "0                  0.375000           0.053571                0.035714   \n",
       "1                  0.131737           0.041916                0.221557   \n",
       "2                  0.095238           0.057143                0.209524   \n",
       "3                  0.077778           0.022222                0.366667   \n",
       "4                  0.134831           0.067416                0.213483   \n",
       "5                  0.093458           0.074766                0.196262   \n",
       "\n",
       "          Property_Area_Semiurban  Property_Area_Urban  Loan_Status_Y  \\\n",
       "cluster6                                                                \n",
       "0                        0.339286             0.267857       0.607143   \n",
       "1                        0.640719             0.000000       0.928144   \n",
       "2                        0.000000             1.000000       0.809524   \n",
       "3                        0.200000             0.288889       0.011111   \n",
       "4                        1.000000             0.000000       0.797753   \n",
       "5                        0.000000             0.523364       0.710280   \n",
       "\n",
       "          TotalIncome  \n",
       "cluster6               \n",
       "0            1.774471  \n",
       "1            0.830134  \n",
       "2            0.821605  \n",
       "3            0.727802  \n",
       "4            0.710163  \n",
       "5            0.716927  "
      ]
     },
     "execution_count": 941,
     "metadata": {},
     "output_type": "execute_result"
    }
   ],
   "source": [
    "df.groupby('cluster6').mean()"
   ]
  },
  {
   "cell_type": "markdown",
   "metadata": {},
   "source": [
    "#### Conclusion\n",
    "By looking at the means of all of the columns for each cluster above it is clear to see:\n",
    "- Cluster 0 has the largest number of dependents while cluster 5 has the lowest.\n",
    "- Notably Cluster 0 also has the highest total income while cluster 5 has the second lowest total income.\n",
    "- Cluster 5 has the shortest loan amount term while cluster 1 has the highest.\n",
    "- All of the cluster almost have a complete credit history (i.e. close to 1) except cluster 3 which is closer to 0.\n",
    "- Cluster 4 is the most female dominated cluster while cluster 1 and 2 are almost completely male.\n",
    "- Cluster 1 and 2 are all maried but cluster 5 is entirely not married.\n",
    "- Cluster 3's loan status is almost all no.\n",
    "\n",
    "*Note that this conclusion is true for this run of k-Means. If the code is executed again, k-Means may produce either different clusters or the same clusters but in a different order.*"
   ]
  },
  {
   "cell_type": "markdown",
   "metadata": {},
   "source": [
    "## Part 4: Alternative Clustering Algorithm"
   ]
  },
  {
   "cell_type": "markdown",
   "metadata": {},
   "source": [
    "### Part 4.1: MeanShift"
   ]
  },
  {
   "cell_type": "code",
   "execution_count": 942,
   "metadata": {},
   "outputs": [],
   "source": [
    "clustered_data_sklearn = cluster.MeanShift().fit(data)"
   ]
  },
  {
   "cell_type": "markdown",
   "metadata": {},
   "source": [
    "Create the clustered data by fitting the data to the **MeanShift** algorithm using default parameters."
   ]
  },
  {
   "cell_type": "code",
   "execution_count": 943,
   "metadata": {},
   "outputs": [],
   "source": [
    "data_and_centers = np.r_[data,clustered_data_sklearn.cluster_centers_]"
   ]
  },
  {
   "cell_type": "markdown",
   "metadata": {},
   "source": [
    "Concatenate the data and the cluster centers together."
   ]
  },
  {
   "cell_type": "code",
   "execution_count": 944,
   "metadata": {},
   "outputs": [
    {
     "name": "stdout",
     "output_type": "stream",
     "text": [
      "transformation complete\n"
     ]
    }
   ],
   "source": [
    "XYcoordinates = manifold.MDS(n_components=2).fit_transform(data_and_centers)\n",
    "print(\"transformation complete\")"
   ]
  },
  {
   "cell_type": "markdown",
   "metadata": {},
   "source": [
    "Get the X and Y coordinates of all the points and centers after completing manifold learning on the data and centers.\n"
   ]
  },
  {
   "cell_type": "code",
   "execution_count": 945,
   "metadata": {},
   "outputs": [
    {
     "data": {
      "image/png": "[encoded data removed]",
      "text/plain": [
       "<Figure size 432x288 with 1 Axes>"
      ]
     },
     "metadata": {
      "needs_background": "light"
     },
     "output_type": "display_data"
    }
   ],
   "source": [
    "clustering_scatterplot(points=XYcoordinates[:-clustered_data_sklearn.cluster_centers_.shape[0],:], \n",
    "                       labels=clustered_data_sklearn.labels_,\n",
    "                       centers=XYcoordinates[-clustered_data_sklearn.cluster_centers_.shape[0]:,:], \n",
    "                       title='MDS')"
   ]
  },
  {
   "cell_type": "markdown",
   "metadata": {},
   "source": [
    "From the above plot we can see that **MeanShift** only returns 4 clusters with cluster 1, 2 and 3 having few data points. This shows primarily that **MeanShift** is not the most suitable alternative clustering algorithm and so we will not continue to plot the TSNE and Isomap plots nor make a conclusion about the cluster means."
   ]
  },
  {
   "cell_type": "markdown",
   "metadata": {},
   "source": [
    "### Part 4.2: DBSCAN - Density-Based Spatial Clustering of Applications with Noise"
   ]
  },
  {
   "cell_type": "code",
   "execution_count": 968,
   "metadata": {},
   "outputs": [
    {
     "name": "stdout",
     "output_type": "stream",
     "text": [
      "Estimated number of clusters: 3\n",
      "Estimated number of noise points: 566\n"
     ]
    }
   ],
   "source": [
    "clustered_data_sklearn = cluster.DBSCAN(eps=0.3, min_samples = 10).fit(data)\n",
    "labels = clustered_data_sklearn.labels_\n",
    "n_clusters_ = len(set(labels)) - (1 if -1 in labels else 0)\n",
    "n_noise_ = list(labels).count(-1)\n",
    "\n",
    "print('Estimated number of clusters: %d' % n_clusters_)\n",
    "print('Estimated number of noise points: %d' % n_noise_)"
   ]
  },
  {
   "cell_type": "markdown",
   "metadata": {},
   "source": [
    "Create the clustered data by fitting the data to the **DBSCAN** algorithm.\n",
    "\n",
    "We investigate the effects of the different parameters to **DBSCAN**, with:\n",
    "- `eps` = The maximum distance between two samples for one to be considered as in the neighborhood of the other.\n",
    "- `min_samples` = The number of samples (or total weight) in a neighborhood for a point to be considered as a core point.\n",
    "\n",
    "The use of `eps=0.3` and `min_samples=10` gives us an estimate of **3 clusters** and **566 noise points** but I think we can do better."
   ]
  },
  {
   "cell_type": "code",
   "execution_count": 969,
   "metadata": {},
   "outputs": [
    {
     "name": "stdout",
     "output_type": "stream",
     "text": [
      "Estimated number of clusters: 6\n",
      "Estimated number of noise points: 455\n"
     ]
    }
   ],
   "source": [
    "clustered_data_sklearn = cluster.DBSCAN(eps=0.5, min_samples = 10).fit(data)\n",
    "labels = clustered_data_sklearn.labels_\n",
    "n_clusters_ = len(set(labels)) - (1 if -1 in labels else 0)\n",
    "n_noise_ = list(labels).count(-1)\n",
    "\n",
    "print('Estimated number of clusters: %d' % n_clusters_)\n",
    "print('Estimated number of noise points: %d' % n_noise_)"
   ]
  },
  {
   "cell_type": "markdown",
   "metadata": {},
   "source": [
    "Refitting our data with **DBSCAN** and different parameter values this time gives us a better result. As you can see from the above output the **number of clusters** is higher but the **noise points** is much lower."
   ]
  },
  {
   "cell_type": "code",
   "execution_count": 970,
   "metadata": {},
   "outputs": [],
   "source": [
    "data_and_centers = np.r_[data]"
   ]
  },
  {
   "cell_type": "markdown",
   "metadata": {},
   "source": [
    "As **DBSCAN** does not return any cluster centers there is no need for us to concatenate anything onto our dataframe."
   ]
  },
  {
   "cell_type": "code",
   "execution_count": 971,
   "metadata": {},
   "outputs": [
    {
     "name": "stdout",
     "output_type": "stream",
     "text": [
      "transformation complete\n"
     ]
    }
   ],
   "source": [
    "XYcoordinates = manifold.MDS(n_components=2).fit_transform(data_and_centers)\n",
    "print(\"transformation complete\")"
   ]
  },
  {
   "cell_type": "markdown",
   "metadata": {},
   "source": [
    "Get the X and Y coordinates of all the points and centers after completing manifold learning on the data and centers.\n"
   ]
  },
  {
   "cell_type": "code",
   "execution_count": 972,
   "metadata": {},
   "outputs": [
    {
     "data": {
      "image/png": "[encoded data removed]",
      "text/plain": [
       "<Figure size 432x288 with 1 Axes>"
      ]
     },
     "metadata": {
      "needs_background": "light"
     },
     "output_type": "display_data"
    }
   ],
   "source": [
    "clustering_scatterplotDBSCAN(points=XYcoordinates, \n",
    "                       labels=clustered_data_sklearn.labels_,\n",
    "                       title='MDS')"
   ]
  },
  {
   "cell_type": "markdown",
   "metadata": {},
   "source": [
    "For **DBSCAN** it is important to note that data is given a -1 label if it is considered **noisy**. This explains why cluster 0 is so large in comparison to others. This data can be considered **noisy** and does not add any extra necessary information according to **DBSCAN**."
   ]
  },
  {
   "cell_type": "code",
   "execution_count": 973,
   "metadata": {},
   "outputs": [
    {
     "name": "stdout",
     "output_type": "stream",
     "text": [
      "transformation complete\n"
     ]
    }
   ],
   "source": [
    "XYcoordinates = manifold.TSNE(n_components=2).fit_transform(data_and_centers)\n",
    "print(\"transformation complete\")"
   ]
  },
  {
   "cell_type": "markdown",
   "metadata": {},
   "source": [
    "Get the X and Y coordinates of all the points and centers after completing manifold learning on the data and centers.\n"
   ]
  },
  {
   "cell_type": "code",
   "execution_count": 974,
   "metadata": {},
   "outputs": [
    {
     "data": {
      "image/png": "[encoded data removed]",
      "text/plain": [
       "<Figure size 432x288 with 1 Axes>"
      ]
     },
     "metadata": {
      "needs_background": "light"
     },
     "output_type": "display_data"
    }
   ],
   "source": [
    "clustering_scatterplotDBSCAN(points=XYcoordinates, \n",
    "                       labels=clustered_data_sklearn.labels_,\n",
    "                       title='TSNE')"
   ]
  },
  {
   "cell_type": "markdown",
   "metadata": {},
   "source": [
    "The **noisy** data can be seen in the above plot too."
   ]
  },
  {
   "cell_type": "code",
   "execution_count": 975,
   "metadata": {},
   "outputs": [
    {
     "name": "stdout",
     "output_type": "stream",
     "text": [
      "transformation complete\n"
     ]
    }
   ],
   "source": [
    "XYcoordinates = manifold.Isomap(n_components=2).fit_transform(data_and_centers)\n",
    "print(\"transformation complete\")"
   ]
  },
  {
   "cell_type": "markdown",
   "metadata": {},
   "source": [
    "Get the X and Y coordinates of all the points and centers after completing manifold learning on the data and centers.\n"
   ]
  },
  {
   "cell_type": "code",
   "execution_count": 976,
   "metadata": {},
   "outputs": [
    {
     "data": {
      "image/png": "[encoded data removed]",
      "text/plain": [
       "<Figure size 432x288 with 1 Axes>"
      ]
     },
     "metadata": {
      "needs_background": "light"
     },
     "output_type": "display_data"
    }
   ],
   "source": [
    "clustering_scatterplotDBSCAN(points=XYcoordinates, \n",
    "                       labels=clustered_data_sklearn.labels_,\n",
    "                       title='ISOMAP')"
   ]
  },
  {
   "cell_type": "markdown",
   "metadata": {},
   "source": [
    "The **noisy** data can be seen in the above plot too."
   ]
  },
  {
   "cell_type": "code",
   "execution_count": 977,
   "metadata": {},
   "outputs": [],
   "source": [
    "df['clusterAlternative'] = pd.Series(clustered_data_sklearn.labels_, index=df.index)"
   ]
  },
  {
   "cell_type": "markdown",
   "metadata": {},
   "source": [
    "Add the cluster labels for **DBSCAN** to the dataframe for later inspection."
   ]
  },
  {
   "cell_type": "markdown",
   "metadata": {},
   "source": [
    "#### Compute the mean value of each attribute for each cluster"
   ]
  },
  {
   "cell_type": "code",
   "execution_count": 978,
   "metadata": {},
   "outputs": [
    {
     "data": {
      "text/html": [
       "<div>\n",
       "<style scoped>\n",
       "    .dataframe tbody tr th:only-of-type {\n",
       "        vertical-align: middle;\n",
       "    }\n",
       "\n",
       "    .dataframe tbody tr th {\n",
       "        vertical-align: top;\n",
       "    }\n",
       "\n",
       "    .dataframe thead th {\n",
       "        text-align: right;\n",
       "    }\n",
       "</style>\n",
       "<table border=\"1\" class=\"dataframe\">\n",
       "  <thead>\n",
       "    <tr style=\"text-align: right;\">\n",
       "      <th></th>\n",
       "      <th>Dependents</th>\n",
       "      <th>ApplicantIncome</th>\n",
       "      <th>LoanAmount</th>\n",
       "      <th>Loan_Amount_Term</th>\n",
       "      <th>Credit_History</th>\n",
       "      <th>Gender_Male</th>\n",
       "      <th>Gender_nan</th>\n",
       "      <th>Married_Yes</th>\n",
       "      <th>Married_nan</th>\n",
       "      <th>Self_Employed_Yes</th>\n",
       "      <th>Self_Employed_nan</th>\n",
       "      <th>Education_Not Graduate</th>\n",
       "      <th>Property_Area_Semiurban</th>\n",
       "      <th>Property_Area_Urban</th>\n",
       "      <th>Loan_Status_Y</th>\n",
       "      <th>TotalIncome</th>\n",
       "    </tr>\n",
       "    <tr>\n",
       "      <th>clusterAlternative</th>\n",
       "      <th></th>\n",
       "      <th></th>\n",
       "      <th></th>\n",
       "      <th></th>\n",
       "      <th></th>\n",
       "      <th></th>\n",
       "      <th></th>\n",
       "      <th></th>\n",
       "      <th></th>\n",
       "      <th></th>\n",
       "      <th></th>\n",
       "      <th></th>\n",
       "      <th></th>\n",
       "      <th></th>\n",
       "      <th></th>\n",
       "      <th></th>\n",
       "    </tr>\n",
       "  </thead>\n",
       "  <tbody>\n",
       "    <tr>\n",
       "      <th>-1</th>\n",
       "      <td>0.257875</td>\n",
       "      <td>0.956740</td>\n",
       "      <td>1.088005</td>\n",
       "      <td>0.706319</td>\n",
       "      <td>0.804396</td>\n",
       "      <td>0.725275</td>\n",
       "      <td>0.028571</td>\n",
       "      <td>0.575824</td>\n",
       "      <td>0.006593</td>\n",
       "      <td>0.18022</td>\n",
       "      <td>0.07033</td>\n",
       "      <td>0.268132</td>\n",
       "      <td>0.349451</td>\n",
       "      <td>0.307692</td>\n",
       "      <td>0.578022</td>\n",
       "      <td>0.899168</td>\n",
       "    </tr>\n",
       "    <tr>\n",
       "      <th>0</th>\n",
       "      <td>0.297297</td>\n",
       "      <td>0.730528</td>\n",
       "      <td>0.978744</td>\n",
       "      <td>0.719595</td>\n",
       "      <td>1.000000</td>\n",
       "      <td>1.000000</td>\n",
       "      <td>0.000000</td>\n",
       "      <td>1.000000</td>\n",
       "      <td>0.000000</td>\n",
       "      <td>0.00000</td>\n",
       "      <td>0.00000</td>\n",
       "      <td>0.000000</td>\n",
       "      <td>0.000000</td>\n",
       "      <td>1.000000</td>\n",
       "      <td>1.000000</td>\n",
       "      <td>0.679174</td>\n",
       "    </tr>\n",
       "    <tr>\n",
       "      <th>1</th>\n",
       "      <td>0.286458</td>\n",
       "      <td>0.873192</td>\n",
       "      <td>1.135637</td>\n",
       "      <td>0.740234</td>\n",
       "      <td>1.000000</td>\n",
       "      <td>1.000000</td>\n",
       "      <td>0.000000</td>\n",
       "      <td>1.000000</td>\n",
       "      <td>0.000000</td>\n",
       "      <td>0.00000</td>\n",
       "      <td>0.00000</td>\n",
       "      <td>0.000000</td>\n",
       "      <td>1.000000</td>\n",
       "      <td>0.000000</td>\n",
       "      <td>1.000000</td>\n",
       "      <td>0.840686</td>\n",
       "    </tr>\n",
       "    <tr>\n",
       "      <th>2</th>\n",
       "      <td>0.000000</td>\n",
       "      <td>0.687149</td>\n",
       "      <td>0.811895</td>\n",
       "      <td>0.737500</td>\n",
       "      <td>1.000000</td>\n",
       "      <td>1.000000</td>\n",
       "      <td>0.000000</td>\n",
       "      <td>0.000000</td>\n",
       "      <td>0.000000</td>\n",
       "      <td>0.00000</td>\n",
       "      <td>0.00000</td>\n",
       "      <td>0.000000</td>\n",
       "      <td>1.000000</td>\n",
       "      <td>0.000000</td>\n",
       "      <td>1.000000</td>\n",
       "      <td>0.516230</td>\n",
       "    </tr>\n",
       "    <tr>\n",
       "      <th>3</th>\n",
       "      <td>0.043478</td>\n",
       "      <td>0.786181</td>\n",
       "      <td>1.086357</td>\n",
       "      <td>0.733696</td>\n",
       "      <td>1.000000</td>\n",
       "      <td>1.000000</td>\n",
       "      <td>0.000000</td>\n",
       "      <td>1.000000</td>\n",
       "      <td>0.000000</td>\n",
       "      <td>0.00000</td>\n",
       "      <td>0.00000</td>\n",
       "      <td>0.000000</td>\n",
       "      <td>0.000000</td>\n",
       "      <td>0.000000</td>\n",
       "      <td>1.000000</td>\n",
       "      <td>0.837156</td>\n",
       "    </tr>\n",
       "    <tr>\n",
       "      <th>4</th>\n",
       "      <td>0.361111</td>\n",
       "      <td>0.729295</td>\n",
       "      <td>1.024337</td>\n",
       "      <td>0.718750</td>\n",
       "      <td>1.000000</td>\n",
       "      <td>1.000000</td>\n",
       "      <td>0.000000</td>\n",
       "      <td>1.000000</td>\n",
       "      <td>0.000000</td>\n",
       "      <td>0.00000</td>\n",
       "      <td>0.00000</td>\n",
       "      <td>1.000000</td>\n",
       "      <td>0.000000</td>\n",
       "      <td>1.000000</td>\n",
       "      <td>1.000000</td>\n",
       "      <td>0.742304</td>\n",
       "    </tr>\n",
       "    <tr>\n",
       "      <th>5</th>\n",
       "      <td>0.025641</td>\n",
       "      <td>0.834571</td>\n",
       "      <td>0.882037</td>\n",
       "      <td>0.750000</td>\n",
       "      <td>1.000000</td>\n",
       "      <td>1.000000</td>\n",
       "      <td>0.000000</td>\n",
       "      <td>0.000000</td>\n",
       "      <td>0.000000</td>\n",
       "      <td>0.00000</td>\n",
       "      <td>0.00000</td>\n",
       "      <td>0.000000</td>\n",
       "      <td>0.000000</td>\n",
       "      <td>1.000000</td>\n",
       "      <td>1.000000</td>\n",
       "      <td>0.639195</td>\n",
       "    </tr>\n",
       "  </tbody>\n",
       "</table>\n",
       "</div>"
      ],
      "text/plain": [
       "                    Dependents  ApplicantIncome  LoanAmount  Loan_Amount_Term  \\\n",
       "clusterAlternative                                                              \n",
       "-1                    0.257875         0.956740    1.088005          0.706319   \n",
       " 0                    0.297297         0.730528    0.978744          0.719595   \n",
       " 1                    0.286458         0.873192    1.135637          0.740234   \n",
       " 2                    0.000000         0.687149    0.811895          0.737500   \n",
       " 3                    0.043478         0.786181    1.086357          0.733696   \n",
       " 4                    0.361111         0.729295    1.024337          0.718750   \n",
       " 5                    0.025641         0.834571    0.882037          0.750000   \n",
       "\n",
       "                    Credit_History  Gender_Male  Gender_nan  Married_Yes  \\\n",
       "clusterAlternative                                                         \n",
       "-1                        0.804396     0.725275    0.028571     0.575824   \n",
       " 0                        1.000000     1.000000    0.000000     1.000000   \n",
       " 1                        1.000000     1.000000    0.000000     1.000000   \n",
       " 2                        1.000000     1.000000    0.000000     0.000000   \n",
       " 3                        1.000000     1.000000    0.000000     1.000000   \n",
       " 4                        1.000000     1.000000    0.000000     1.000000   \n",
       " 5                        1.000000     1.000000    0.000000     0.000000   \n",
       "\n",
       "                    Married_nan  Self_Employed_Yes  Self_Employed_nan  \\\n",
       "clusterAlternative                                                      \n",
       "-1                     0.006593            0.18022            0.07033   \n",
       " 0                     0.000000            0.00000            0.00000   \n",
       " 1                     0.000000            0.00000            0.00000   \n",
       " 2                     0.000000            0.00000            0.00000   \n",
       " 3                     0.000000            0.00000            0.00000   \n",
       " 4                     0.000000            0.00000            0.00000   \n",
       " 5                     0.000000            0.00000            0.00000   \n",
       "\n",
       "                    Education_Not Graduate  Property_Area_Semiurban  \\\n",
       "clusterAlternative                                                    \n",
       "-1                                0.268132                 0.349451   \n",
       " 0                                0.000000                 0.000000   \n",
       " 1                                0.000000                 1.000000   \n",
       " 2                                0.000000                 1.000000   \n",
       " 3                                0.000000                 0.000000   \n",
       " 4                                1.000000                 0.000000   \n",
       " 5                                0.000000                 0.000000   \n",
       "\n",
       "                    Property_Area_Urban  Loan_Status_Y  TotalIncome  \n",
       "clusterAlternative                                                   \n",
       "-1                             0.307692       0.578022     0.899168  \n",
       " 0                             1.000000       1.000000     0.679174  \n",
       " 1                             0.000000       1.000000     0.840686  \n",
       " 2                             0.000000       1.000000     0.516230  \n",
       " 3                             0.000000       1.000000     0.837156  \n",
       " 4                             1.000000       1.000000     0.742304  \n",
       " 5                             1.000000       1.000000     0.639195  "
      ]
     },
     "execution_count": 978,
     "metadata": {},
     "output_type": "execute_result"
    }
   ],
   "source": [
    "df.drop(columns=\"cluster6\").groupby('clusterAlternative').mean()"
   ]
  },
  {
   "cell_type": "markdown",
   "metadata": {},
   "source": [
    "#### Conclusion\n",
    "By looking at the means of all of the columns for each cluster above it is clear to see:\n",
    "- Cluster 4 has the largest number of dependents while cluster 2 has absolutely no dependents.\n",
    "- Notably Cluster 2 also has the lowest total income while cluster -1 has the highest total income.\n",
    "- All of the clusters loan amount terms are similar but cluster -1 has the shortest loan amount term.\n",
    "- Cluster -1 is the only cluster not to have a credit history.\n",
    "- Cluster -1 is also the only non completely male cluster.\n",
    "- Cluster 4 is the only cluster made up of fully graduates from education, cluster 0,1,2,3,5 are fully not graduates.\n",
    "- All of the clusters loan status is yes bar cluster -1\n",
    "\n",
    "The reason behind some of the clusters having means at the boundaries is due to cluster -1, the cluster containing all the noisy data is by far the largest cluster.\n",
    "\n",
    "\n",
    "*Note that this conclusion is true for this run of k-Means. If the code is executed again, k-Means may produce either different clusters or the same clusters but in a different order.*"
   ]
  },
  {
   "cell_type": "code",
   "execution_count": null,
   "metadata": {},
   "outputs": [],
   "source": []
  }
 ],
 "metadata": {
  "kernelspec": {
   "display_name": "Python 3",
   "language": "python",
   "name": "python3"
  },
  "language_info": {
   "codemirror_mode": {
    "name": "ipython",
    "version": 3
   },
   "file_extension": ".py",
   "mimetype": "text/x-python",
   "name": "python",
   "nbconvert_exporter": "python",
   "pygments_lexer": "ipython3",
   "version": "3.8.5"
  }
 },
 "nbformat": 4,
 "nbformat_minor": 4
}
