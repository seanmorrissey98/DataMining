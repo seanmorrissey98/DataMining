{
 "cells": [
  {
   "cell_type": "markdown",
   "metadata": {},
   "source": [
    "# Etivity 5: _Regression and Dimensionality Reduction_\n",
    "**Student Name**: _Sean Morrissey_\n",
    "\n",
    "**Student ID**: _17222761_"
   ]
  },
  {
   "cell_type": "markdown",
   "metadata": {},
   "source": [
    "The aim of this etivity is to introduce dimensionality reduction into the process of training and comparing predictive models. In this etivity multiple regression models will be trained and evaluated on the insurance dataset along with the implementation of dimensionality reduction to the training pipeline. In this etivity we will:\n",
    "- Perform **EDA** and **Data Preparation** on the dataset\n",
    "- Introduce **Dimensionality Reduction** into the training pipeline through **PCA** and **RFE**\n",
    "- Also perform **LinearDiscriminantAnalysis**, **FeatureAgglomeration** and **NeighborhoodComponentsAnalysis** dimensionality reduction \n",
    "- Train and evaluate **Linear Regression** and **Random Forest Regressor** models\n",
    "- Also train and evaluate an **SVR** model\n",
    "- Explore the optimal parameters for each model\n",
    "- Produce metrics for each model such as **MSE**, **MAE** and **R2** and evaluate each model based on these metrics"
   ]
  },
  {
   "cell_type": "markdown",
   "metadata": {},
   "source": [
    "## Part 1: Imports"
   ]
  },
  {
   "cell_type": "code",
   "execution_count": 356,
   "metadata": {},
   "outputs": [],
   "source": [
    "# Import required packages\n",
    "\n",
    "import pandas as pd\n",
    "import numpy as np\n",
    "from sklearn.pipeline import Pipeline, make_pipeline, FeatureUnion\n",
    "from sklearn.compose import ColumnTransformer\n",
    "from sklearn.base import BaseEstimator, TransformerMixin\n",
    "from sklearn.preprocessing import StandardScaler, RobustScaler, FunctionTransformer\n",
    "from sklearn.model_selection import train_test_split, GridSearchCV\n",
    "import pickle\n",
    "import matplotlib.pyplot as plt\n",
    "%matplotlib inline\n",
    "\n",
    "# imports necessary for dimensionality reduction\n",
    "from sklearn.decomposition import PCA\n",
    "from sklearn.feature_selection import RFE\n",
    "from sklearn import svm\n",
    "from sklearn import cluster\n",
    "from sklearn.discriminant_analysis import LinearDiscriminantAnalysis\n",
    "from sklearn.neighbors import NeighborhoodComponentsAnalysis\n",
    "\n",
    "# regression algorithms\n",
    "from sklearn.ensemble import RandomForestRegressor\n",
    "from sklearn.linear_model import LinearRegression\n",
    "from sklearn.svm import SVR\n",
    "\n",
    "# metrics for evaluating regression models\n",
    "from sklearn.metrics import mean_squared_error, mean_absolute_error, r2_score"
   ]
  },
  {
   "cell_type": "markdown",
   "metadata": {},
   "source": [
    "## Part 2: Exploratory Data Analysis"
   ]
  },
  {
   "cell_type": "markdown",
   "metadata": {},
   "source": [
    "Exploratory data analysis is completed to check for missing values and outliers."
   ]
  },
  {
   "cell_type": "code",
   "execution_count": 357,
   "metadata": {},
   "outputs": [
    {
     "data": {
      "text/html": [
       "<div>\n",
       "<style scoped>\n",
       "    .dataframe tbody tr th:only-of-type {\n",
       "        vertical-align: middle;\n",
       "    }\n",
       "\n",
       "    .dataframe tbody tr th {\n",
       "        vertical-align: top;\n",
       "    }\n",
       "\n",
       "    .dataframe thead th {\n",
       "        text-align: right;\n",
       "    }\n",
       "</style>\n",
       "<table border=\"1\" class=\"dataframe\">\n",
       "  <thead>\n",
       "    <tr style=\"text-align: right;\">\n",
       "      <th></th>\n",
       "      <th>age</th>\n",
       "      <th>gender</th>\n",
       "      <th>bmi</th>\n",
       "      <th>children</th>\n",
       "      <th>smoker</th>\n",
       "      <th>region</th>\n",
       "      <th>insurance_cost</th>\n",
       "    </tr>\n",
       "  </thead>\n",
       "  <tbody>\n",
       "    <tr>\n",
       "      <th>0</th>\n",
       "      <td>18</td>\n",
       "      <td>male</td>\n",
       "      <td>33.770</td>\n",
       "      <td>1</td>\n",
       "      <td>no</td>\n",
       "      <td>southeast</td>\n",
       "      <td>1725.55230</td>\n",
       "    </tr>\n",
       "    <tr>\n",
       "      <th>1</th>\n",
       "      <td>18</td>\n",
       "      <td>male</td>\n",
       "      <td>34.100</td>\n",
       "      <td>0</td>\n",
       "      <td>no</td>\n",
       "      <td>southeast</td>\n",
       "      <td>1137.01100</td>\n",
       "    </tr>\n",
       "    <tr>\n",
       "      <th>2</th>\n",
       "      <td>18</td>\n",
       "      <td>female</td>\n",
       "      <td>26.315</td>\n",
       "      <td>0</td>\n",
       "      <td>no</td>\n",
       "      <td>northeast</td>\n",
       "      <td>2198.18985</td>\n",
       "    </tr>\n",
       "    <tr>\n",
       "      <th>3</th>\n",
       "      <td>18</td>\n",
       "      <td>female</td>\n",
       "      <td>38.665</td>\n",
       "      <td>2</td>\n",
       "      <td>no</td>\n",
       "      <td>northeast</td>\n",
       "      <td>3393.35635</td>\n",
       "    </tr>\n",
       "    <tr>\n",
       "      <th>4</th>\n",
       "      <td>18</td>\n",
       "      <td>female</td>\n",
       "      <td>35.625</td>\n",
       "      <td>0</td>\n",
       "      <td>no</td>\n",
       "      <td>northeast</td>\n",
       "      <td>2211.13075</td>\n",
       "    </tr>\n",
       "  </tbody>\n",
       "</table>\n",
       "</div>"
      ],
      "text/plain": [
       "   age  gender     bmi  children smoker     region  insurance_cost\n",
       "0   18    male  33.770         1     no  southeast      1725.55230\n",
       "1   18    male  34.100         0     no  southeast      1137.01100\n",
       "2   18  female  26.315         0     no  northeast      2198.18985\n",
       "3   18  female  38.665         2     no  northeast      3393.35635\n",
       "4   18  female  35.625         0     no  northeast      2211.13075"
      ]
     },
     "execution_count": 357,
     "metadata": {},
     "output_type": "execute_result"
    }
   ],
   "source": [
    "# Read in the dataset\n",
    "df = pd.read_csv(\"./insurance-1.csv\")\n",
    "\n",
    "# Check the data from the first five rows of the dataframe\n",
    "df.head()"
   ]
  },
  {
   "cell_type": "code",
   "execution_count": 358,
   "metadata": {},
   "outputs": [
    {
     "data": {
      "text/html": [
       "<div>\n",
       "<style scoped>\n",
       "    .dataframe tbody tr th:only-of-type {\n",
       "        vertical-align: middle;\n",
       "    }\n",
       "\n",
       "    .dataframe tbody tr th {\n",
       "        vertical-align: top;\n",
       "    }\n",
       "\n",
       "    .dataframe thead th {\n",
       "        text-align: right;\n",
       "    }\n",
       "</style>\n",
       "<table border=\"1\" class=\"dataframe\">\n",
       "  <thead>\n",
       "    <tr style=\"text-align: right;\">\n",
       "      <th></th>\n",
       "      <th>age</th>\n",
       "      <th>gender</th>\n",
       "      <th>bmi</th>\n",
       "      <th>children</th>\n",
       "      <th>smoker</th>\n",
       "      <th>region</th>\n",
       "      <th>insurance_cost</th>\n",
       "    </tr>\n",
       "  </thead>\n",
       "  <tbody>\n",
       "    <tr>\n",
       "      <th>1333</th>\n",
       "      <td>64</td>\n",
       "      <td>female</td>\n",
       "      <td>31.825</td>\n",
       "      <td>2</td>\n",
       "      <td>no</td>\n",
       "      <td>northeast</td>\n",
       "      <td>16069.08475</td>\n",
       "    </tr>\n",
       "    <tr>\n",
       "      <th>1334</th>\n",
       "      <td>64</td>\n",
       "      <td>female</td>\n",
       "      <td>26.885</td>\n",
       "      <td>0</td>\n",
       "      <td>yes</td>\n",
       "      <td>northwest</td>\n",
       "      <td>29330.98315</td>\n",
       "    </tr>\n",
       "    <tr>\n",
       "      <th>1335</th>\n",
       "      <td>64</td>\n",
       "      <td>male</td>\n",
       "      <td>26.410</td>\n",
       "      <td>0</td>\n",
       "      <td>no</td>\n",
       "      <td>northeast</td>\n",
       "      <td>14394.55790</td>\n",
       "    </tr>\n",
       "    <tr>\n",
       "      <th>1336</th>\n",
       "      <td>64</td>\n",
       "      <td>male</td>\n",
       "      <td>36.960</td>\n",
       "      <td>2</td>\n",
       "      <td>yes</td>\n",
       "      <td>southeast</td>\n",
       "      <td>49577.66240</td>\n",
       "    </tr>\n",
       "    <tr>\n",
       "      <th>1337</th>\n",
       "      <td>64</td>\n",
       "      <td>male</td>\n",
       "      <td>23.760</td>\n",
       "      <td>0</td>\n",
       "      <td>yes</td>\n",
       "      <td>southeast</td>\n",
       "      <td>26926.51440</td>\n",
       "    </tr>\n",
       "  </tbody>\n",
       "</table>\n",
       "</div>"
      ],
      "text/plain": [
       "      age  gender     bmi  children smoker     region  insurance_cost\n",
       "1333   64  female  31.825         2     no  northeast     16069.08475\n",
       "1334   64  female  26.885         0    yes  northwest     29330.98315\n",
       "1335   64    male  26.410         0     no  northeast     14394.55790\n",
       "1336   64    male  36.960         2    yes  southeast     49577.66240\n",
       "1337   64    male  23.760         0    yes  southeast     26926.51440"
      ]
     },
     "execution_count": 358,
     "metadata": {},
     "output_type": "execute_result"
    }
   ],
   "source": [
    "# Check the data from the last five rows of the dataframe\n",
    "df.tail()"
   ]
  },
  {
   "cell_type": "code",
   "execution_count": 359,
   "metadata": {},
   "outputs": [
    {
     "data": {
      "text/plain": [
       "0    574\n",
       "1    324\n",
       "2    240\n",
       "3    157\n",
       "4     25\n",
       "5     18\n",
       "Name: children, dtype: int64"
      ]
     },
     "execution_count": 359,
     "metadata": {},
     "output_type": "execute_result"
    }
   ],
   "source": [
    "df['children'].value_counts()"
   ]
  },
  {
   "cell_type": "markdown",
   "metadata": {},
   "source": [
    "In the above cell we check the different values in our target column `children` and the amount of instances for each of the separate values."
   ]
  },
  {
   "cell_type": "code",
   "execution_count": 360,
   "metadata": {},
   "outputs": [
    {
     "data": {
      "text/plain": [
       "age               0\n",
       "gender            0\n",
       "bmi               0\n",
       "children          0\n",
       "smoker            0\n",
       "region            0\n",
       "insurance_cost    0\n",
       "dtype: int64"
      ]
     },
     "execution_count": 360,
     "metadata": {},
     "output_type": "execute_result"
    }
   ],
   "source": [
    "df.isna().sum()"
   ]
  },
  {
   "cell_type": "markdown",
   "metadata": {},
   "source": [
    "A check for missing values shows that there is no missing values in the dataset for any of the columns."
   ]
  },
  {
   "cell_type": "code",
   "execution_count": 361,
   "metadata": {},
   "outputs": [
    {
     "data": {
      "text/html": [
       "<div>\n",
       "<style scoped>\n",
       "    .dataframe tbody tr th:only-of-type {\n",
       "        vertical-align: middle;\n",
       "    }\n",
       "\n",
       "    .dataframe tbody tr th {\n",
       "        vertical-align: top;\n",
       "    }\n",
       "\n",
       "    .dataframe thead th {\n",
       "        text-align: right;\n",
       "    }\n",
       "</style>\n",
       "<table border=\"1\" class=\"dataframe\">\n",
       "  <thead>\n",
       "    <tr style=\"text-align: right;\">\n",
       "      <th></th>\n",
       "      <th>age</th>\n",
       "      <th>bmi</th>\n",
       "      <th>children</th>\n",
       "      <th>insurance_cost</th>\n",
       "    </tr>\n",
       "  </thead>\n",
       "  <tbody>\n",
       "    <tr>\n",
       "      <th>count</th>\n",
       "      <td>1338.000000</td>\n",
       "      <td>1338.000000</td>\n",
       "      <td>1338.000000</td>\n",
       "      <td>1338.000000</td>\n",
       "    </tr>\n",
       "    <tr>\n",
       "      <th>mean</th>\n",
       "      <td>39.207025</td>\n",
       "      <td>30.663397</td>\n",
       "      <td>1.094918</td>\n",
       "      <td>13270.422265</td>\n",
       "    </tr>\n",
       "    <tr>\n",
       "      <th>std</th>\n",
       "      <td>14.049960</td>\n",
       "      <td>6.098187</td>\n",
       "      <td>1.205493</td>\n",
       "      <td>12110.011237</td>\n",
       "    </tr>\n",
       "    <tr>\n",
       "      <th>min</th>\n",
       "      <td>18.000000</td>\n",
       "      <td>15.960000</td>\n",
       "      <td>0.000000</td>\n",
       "      <td>1121.873900</td>\n",
       "    </tr>\n",
       "    <tr>\n",
       "      <th>25%</th>\n",
       "      <td>27.000000</td>\n",
       "      <td>26.296250</td>\n",
       "      <td>0.000000</td>\n",
       "      <td>4740.287150</td>\n",
       "    </tr>\n",
       "    <tr>\n",
       "      <th>50%</th>\n",
       "      <td>39.000000</td>\n",
       "      <td>30.400000</td>\n",
       "      <td>1.000000</td>\n",
       "      <td>9382.033000</td>\n",
       "    </tr>\n",
       "    <tr>\n",
       "      <th>75%</th>\n",
       "      <td>51.000000</td>\n",
       "      <td>34.693750</td>\n",
       "      <td>2.000000</td>\n",
       "      <td>16639.912515</td>\n",
       "    </tr>\n",
       "    <tr>\n",
       "      <th>max</th>\n",
       "      <td>64.000000</td>\n",
       "      <td>53.130000</td>\n",
       "      <td>5.000000</td>\n",
       "      <td>63770.428010</td>\n",
       "    </tr>\n",
       "  </tbody>\n",
       "</table>\n",
       "</div>"
      ],
      "text/plain": [
       "               age          bmi     children  insurance_cost\n",
       "count  1338.000000  1338.000000  1338.000000     1338.000000\n",
       "mean     39.207025    30.663397     1.094918    13270.422265\n",
       "std      14.049960     6.098187     1.205493    12110.011237\n",
       "min      18.000000    15.960000     0.000000     1121.873900\n",
       "25%      27.000000    26.296250     0.000000     4740.287150\n",
       "50%      39.000000    30.400000     1.000000     9382.033000\n",
       "75%      51.000000    34.693750     2.000000    16639.912515\n",
       "max      64.000000    53.130000     5.000000    63770.428010"
      ]
     },
     "execution_count": 361,
     "metadata": {},
     "output_type": "execute_result"
    }
   ],
   "source": [
    "df.describe()"
   ]
  },
  {
   "cell_type": "markdown",
   "metadata": {},
   "source": [
    "A brief view of the statistics of the numerical attributes all of the attributes look ok."
   ]
  },
  {
   "cell_type": "code",
   "execution_count": 362,
   "metadata": {},
   "outputs": [
    {
     "data": {
      "image/png": "[encoded data removed]",
      "text/plain": [
       "<Figure size 1440x360 with 1 Axes>"
      ]
     },
     "metadata": {
      "needs_background": "light"
     },
     "output_type": "display_data"
    }
   ],
   "source": [
    "df.drop('insurance_cost', axis=1).boxplot(figsize=(20,5))\n",
    "plt.show()"
   ]
  },
  {
   "cell_type": "markdown",
   "metadata": {},
   "source": [
    "Box plots of the numerical attributes shows that the attribute `bmi` contains some outliers. The attributes `children` and `age` contain no outliers.\n",
    "\n",
    "The reason for not including `insurance_cost` in this box plot is due to the size and range of values it includes and would distort the view of the other attributes."
   ]
  },
  {
   "cell_type": "code",
   "execution_count": 363,
   "metadata": {
    "scrolled": true
   },
   "outputs": [
    {
     "data": {
      "image/png": "[encoded data removed]",
      "text/plain": [
       "<Figure size 432x288 with 1 Axes>"
      ]
     },
     "metadata": {
      "needs_background": "light"
     },
     "output_type": "display_data"
    }
   ],
   "source": [
    "df.boxplot(column=['insurance_cost'])\n",
    "plt.show()"
   ]
  },
  {
   "cell_type": "markdown",
   "metadata": {},
   "source": [
    "A box plot of the `insurance_cost` attribute shows that it contains a high amount of outliers.\n",
    "\n",
    "We will apply a **RobustScaler** to the attributes `insurance_cost` and `bmi` as they contain outliers and we will apply a **StandardScaler** to the other attributes as they contain no outliers."
   ]
  },
  {
   "cell_type": "markdown",
   "metadata": {},
   "source": [
    "## Part 3: Data Preparation"
   ]
  },
  {
   "cell_type": "code",
   "execution_count": 364,
   "metadata": {},
   "outputs": [],
   "source": [
    "df = pd.get_dummies(df, columns=['region', 'gender', 'smoker'], \n",
    "                        #dummy_na=True, \n",
    "                        drop_first=True)"
   ]
  },
  {
   "cell_type": "markdown",
   "metadata": {},
   "source": [
    "In the above cell we apply **One hot encoding** to the categorical columns `region`, `gender` and `smoker` as these categorical features are not Ordinal. The result of this **one hot encoding** is multiple numerical columns."
   ]
  },
  {
   "cell_type": "code",
   "execution_count": 365,
   "metadata": {},
   "outputs": [
    {
     "data": {
      "text/html": [
       "<div>\n",
       "<style scoped>\n",
       "    .dataframe tbody tr th:only-of-type {\n",
       "        vertical-align: middle;\n",
       "    }\n",
       "\n",
       "    .dataframe tbody tr th {\n",
       "        vertical-align: top;\n",
       "    }\n",
       "\n",
       "    .dataframe thead th {\n",
       "        text-align: right;\n",
       "    }\n",
       "</style>\n",
       "<table border=\"1\" class=\"dataframe\">\n",
       "  <thead>\n",
       "    <tr style=\"text-align: right;\">\n",
       "      <th></th>\n",
       "      <th>age</th>\n",
       "      <th>bmi</th>\n",
       "      <th>children</th>\n",
       "      <th>insurance_cost</th>\n",
       "      <th>region_northwest</th>\n",
       "      <th>region_southeast</th>\n",
       "      <th>region_southwest</th>\n",
       "      <th>gender_male</th>\n",
       "      <th>smoker_yes</th>\n",
       "    </tr>\n",
       "  </thead>\n",
       "  <tbody>\n",
       "    <tr>\n",
       "      <th>0</th>\n",
       "      <td>18</td>\n",
       "      <td>33.770</td>\n",
       "      <td>1</td>\n",
       "      <td>1725.55230</td>\n",
       "      <td>0</td>\n",
       "      <td>1</td>\n",
       "      <td>0</td>\n",
       "      <td>1</td>\n",
       "      <td>0</td>\n",
       "    </tr>\n",
       "    <tr>\n",
       "      <th>1</th>\n",
       "      <td>18</td>\n",
       "      <td>34.100</td>\n",
       "      <td>0</td>\n",
       "      <td>1137.01100</td>\n",
       "      <td>0</td>\n",
       "      <td>1</td>\n",
       "      <td>0</td>\n",
       "      <td>1</td>\n",
       "      <td>0</td>\n",
       "    </tr>\n",
       "    <tr>\n",
       "      <th>2</th>\n",
       "      <td>18</td>\n",
       "      <td>26.315</td>\n",
       "      <td>0</td>\n",
       "      <td>2198.18985</td>\n",
       "      <td>0</td>\n",
       "      <td>0</td>\n",
       "      <td>0</td>\n",
       "      <td>0</td>\n",
       "      <td>0</td>\n",
       "    </tr>\n",
       "    <tr>\n",
       "      <th>3</th>\n",
       "      <td>18</td>\n",
       "      <td>38.665</td>\n",
       "      <td>2</td>\n",
       "      <td>3393.35635</td>\n",
       "      <td>0</td>\n",
       "      <td>0</td>\n",
       "      <td>0</td>\n",
       "      <td>0</td>\n",
       "      <td>0</td>\n",
       "    </tr>\n",
       "    <tr>\n",
       "      <th>4</th>\n",
       "      <td>18</td>\n",
       "      <td>35.625</td>\n",
       "      <td>0</td>\n",
       "      <td>2211.13075</td>\n",
       "      <td>0</td>\n",
       "      <td>0</td>\n",
       "      <td>0</td>\n",
       "      <td>0</td>\n",
       "      <td>0</td>\n",
       "    </tr>\n",
       "  </tbody>\n",
       "</table>\n",
       "</div>"
      ],
      "text/plain": [
       "   age     bmi  children  insurance_cost  region_northwest  region_southeast  \\\n",
       "0   18  33.770         1      1725.55230                 0                 1   \n",
       "1   18  34.100         0      1137.01100                 0                 1   \n",
       "2   18  26.315         0      2198.18985                 0                 0   \n",
       "3   18  38.665         2      3393.35635                 0                 0   \n",
       "4   18  35.625         0      2211.13075                 0                 0   \n",
       "\n",
       "   region_southwest  gender_male  smoker_yes  \n",
       "0                 0            1           0  \n",
       "1                 0            1           0  \n",
       "2                 0            0           0  \n",
       "3                 0            0           0  \n",
       "4                 0            0           0  "
      ]
     },
     "execution_count": 365,
     "metadata": {},
     "output_type": "execute_result"
    }
   ],
   "source": [
    "# Check the data from the first five rows of the dataframe after one hot encoding\n",
    "df.head()"
   ]
  },
  {
   "cell_type": "code",
   "execution_count": 366,
   "metadata": {},
   "outputs": [
    {
     "data": {
      "text/html": [
       "<div>\n",
       "<style scoped>\n",
       "    .dataframe tbody tr th:only-of-type {\n",
       "        vertical-align: middle;\n",
       "    }\n",
       "\n",
       "    .dataframe tbody tr th {\n",
       "        vertical-align: top;\n",
       "    }\n",
       "\n",
       "    .dataframe thead th {\n",
       "        text-align: right;\n",
       "    }\n",
       "</style>\n",
       "<table border=\"1\" class=\"dataframe\">\n",
       "  <thead>\n",
       "    <tr style=\"text-align: right;\">\n",
       "      <th></th>\n",
       "      <th>age</th>\n",
       "      <th>bmi</th>\n",
       "      <th>children</th>\n",
       "      <th>insurance_cost</th>\n",
       "      <th>region_northwest</th>\n",
       "      <th>region_southeast</th>\n",
       "      <th>region_southwest</th>\n",
       "      <th>gender_male</th>\n",
       "      <th>smoker_yes</th>\n",
       "    </tr>\n",
       "  </thead>\n",
       "  <tbody>\n",
       "    <tr>\n",
       "      <th>1333</th>\n",
       "      <td>64</td>\n",
       "      <td>31.825</td>\n",
       "      <td>2</td>\n",
       "      <td>16069.08475</td>\n",
       "      <td>0</td>\n",
       "      <td>0</td>\n",
       "      <td>0</td>\n",
       "      <td>0</td>\n",
       "      <td>0</td>\n",
       "    </tr>\n",
       "    <tr>\n",
       "      <th>1334</th>\n",
       "      <td>64</td>\n",
       "      <td>26.885</td>\n",
       "      <td>0</td>\n",
       "      <td>29330.98315</td>\n",
       "      <td>1</td>\n",
       "      <td>0</td>\n",
       "      <td>0</td>\n",
       "      <td>0</td>\n",
       "      <td>1</td>\n",
       "    </tr>\n",
       "    <tr>\n",
       "      <th>1335</th>\n",
       "      <td>64</td>\n",
       "      <td>26.410</td>\n",
       "      <td>0</td>\n",
       "      <td>14394.55790</td>\n",
       "      <td>0</td>\n",
       "      <td>0</td>\n",
       "      <td>0</td>\n",
       "      <td>1</td>\n",
       "      <td>0</td>\n",
       "    </tr>\n",
       "    <tr>\n",
       "      <th>1336</th>\n",
       "      <td>64</td>\n",
       "      <td>36.960</td>\n",
       "      <td>2</td>\n",
       "      <td>49577.66240</td>\n",
       "      <td>0</td>\n",
       "      <td>1</td>\n",
       "      <td>0</td>\n",
       "      <td>1</td>\n",
       "      <td>1</td>\n",
       "    </tr>\n",
       "    <tr>\n",
       "      <th>1337</th>\n",
       "      <td>64</td>\n",
       "      <td>23.760</td>\n",
       "      <td>0</td>\n",
       "      <td>26926.51440</td>\n",
       "      <td>0</td>\n",
       "      <td>1</td>\n",
       "      <td>0</td>\n",
       "      <td>1</td>\n",
       "      <td>1</td>\n",
       "    </tr>\n",
       "  </tbody>\n",
       "</table>\n",
       "</div>"
      ],
      "text/plain": [
       "      age     bmi  children  insurance_cost  region_northwest  \\\n",
       "1333   64  31.825         2     16069.08475                 0   \n",
       "1334   64  26.885         0     29330.98315                 1   \n",
       "1335   64  26.410         0     14394.55790                 0   \n",
       "1336   64  36.960         2     49577.66240                 0   \n",
       "1337   64  23.760         0     26926.51440                 0   \n",
       "\n",
       "      region_southeast  region_southwest  gender_male  smoker_yes  \n",
       "1333                 0                 0            0           0  \n",
       "1334                 0                 0            0           1  \n",
       "1335                 0                 0            1           0  \n",
       "1336                 1                 0            1           1  \n",
       "1337                 1                 0            1           1  "
      ]
     },
     "execution_count": 366,
     "metadata": {},
     "output_type": "execute_result"
    }
   ],
   "source": [
    "# Check the data from the last five rows of the dataframe after one hot encoding\n",
    "df.tail()"
   ]
  },
  {
   "cell_type": "markdown",
   "metadata": {},
   "source": [
    "All of the categorical data has now been transformed to numerical data."
   ]
  },
  {
   "cell_type": "code",
   "execution_count": 367,
   "metadata": {},
   "outputs": [],
   "source": [
    "# store a list with the names of all predictors\n",
    "names_all = [c for c in df if c not in ['children']]\n",
    "\n",
    "# define column groups with same data preparation\n",
    "names_outliers = ['bmi', 'insurance_cost']\n",
    "names_no_outliers = list(set(names_all) - set(names_outliers))"
   ]
  },
  {
   "cell_type": "markdown",
   "metadata": {},
   "source": [
    "We create two lists:\n",
    "- The first list contains the columns which contain outliers\n",
    "- The second list contains the columns without outliers\n",
    "\n",
    "For the columns with outliers we will apply the **RobustScaler** and a log function, for the columns without outliers we will apply the **StandardScaler**."
   ]
  },
  {
   "cell_type": "code",
   "execution_count": 368,
   "metadata": {},
   "outputs": [],
   "source": [
    "class AddColumnNames(BaseEstimator, TransformerMixin):\n",
    "    def __init__(self, columns):\n",
    "        self.columns = columns\n",
    "\n",
    "    def fit(self, X, y=None):\n",
    "        return self\n",
    "\n",
    "    def transform(self, X):\n",
    "        return pd.DataFrame(data=X, columns=self.columns)"
   ]
  },
  {
   "cell_type": "markdown",
   "metadata": {},
   "source": [
    "The above class is created for use in the preprocessing pipeline to put the names of the columns back together after they have been split into training and test datasets. We need this as we need to apply preperation strategies to the two groups of columns."
   ]
  },
  {
   "cell_type": "code",
   "execution_count": 369,
   "metadata": {},
   "outputs": [],
   "source": [
    "class ColumnSelector(BaseEstimator, TransformerMixin):\n",
    "    def __init__(self, columns):\n",
    "        self.columns = columns\n",
    "\n",
    "    def fit(self, X, y=None):\n",
    "        return self\n",
    "\n",
    "    def transform(self, X):\n",
    "        assert isinstance(X, pd.DataFrame)\n",
    "        return X[self.columns]"
   ]
  },
  {
   "cell_type": "markdown",
   "metadata": {},
   "source": [
    "The above class simply selects a group of columns."
   ]
  },
  {
   "cell_type": "code",
   "execution_count": 370,
   "metadata": {},
   "outputs": [],
   "source": [
    "preprocess_pipeline = make_pipeline(\n",
    "    AddColumnNames(columns=names_all),\n",
    "    FeatureUnion(transformer_list=[\n",
    "        (\"outlier_columns\", make_pipeline(\n",
    "            ColumnSelector(columns=names_outliers),\n",
    "            FunctionTransformer(np.log, validate=True),\n",
    "            RobustScaler()\n",
    "        )),\n",
    "        (\"no_outlier_columns\", make_pipeline(\n",
    "            ColumnSelector(columns=names_no_outliers),\n",
    "            StandardScaler()\n",
    "        ))\n",
    "    ])\n",
    ")"
   ]
  },
  {
   "cell_type": "markdown",
   "metadata": {},
   "source": [
    "We create our preprocess pipeline which applies the StandardScaler to the columns with no outliers and applies the log and RobustScaler to the columns with outliers. It then Unions the two together."
   ]
  },
  {
   "cell_type": "code",
   "execution_count": 371,
   "metadata": {},
   "outputs": [],
   "source": [
    "y = df['children']\n",
    "X = df.drop('children', axis=1).values\n",
    "\n",
    "X_train, X_test, y_train, y_test = train_test_split(X, y, test_size=0.2, shuffle=True)"
   ]
  },
  {
   "cell_type": "markdown",
   "metadata": {},
   "source": [
    "We split the target attribute which is `children` away from the rest of the predictors. \n",
    "\n",
    "Then we split both the x and y dataframes into **test** and **training** sets. The training sets contains **80%** of the data while the test sets contain the remaining **20%**. We also shuffle the dataset but we use stratify so that the test and training sets remain proportionate."
   ]
  },
  {
   "cell_type": "markdown",
   "metadata": {},
   "source": [
    "## Part 4: Dimensionality Reduction & Grid Search for Best Parameters"
   ]
  },
  {
   "cell_type": "markdown",
   "metadata": {},
   "source": [
    "Next we train our `RandomForestRegressor`, `LinearRegression` and `SVR` models on the training set with a range of possible parameters in order to find th best parameters by cross-validation. To do this we use a pipeline which includes the preprocessing pipeline to scale our attributes and each model respectably. Dimensionality reduction is also included into the pipeline after the preprocessing is complete. Five various dimensionality reduction methods were implemented into the process as part of this etivity. Grid search will pick the best dimensionality reduction method for use as well as the parameters. These dimensionality reduction methods are:\n",
    "\n",
    "- Principal Component Analysis (PCA)\n",
    "- Recursive Feature Elimination (RFE) with estimator `svm.SVR`\n",
    "- Recursive Feature Elimination (RFE) with estimator `LinearRegression`\n",
    "- Feature Agglomeration\n",
    "- Linear Discriminant Analysis\n",
    "- Neighborhood Components Analysis\n",
    "\n",
    "Note that RFE is using regression algorithms for selecting the best features. These regression algorithms can be different from the regression algorithm at the end of the main pipeline.\n",
    "\n",
    "The main pipeline will take care for separately preprocessing the training and validation sets after the training set is further split into training and validation sets in the process of cross-validation. It also applies the dimensionality reduction method separately to the two sets."
   ]
  },
  {
   "cell_type": "markdown",
   "metadata": {},
   "source": [
    "#### Random Forest Pipeline"
   ]
  },
  {
   "cell_type": "markdown",
   "metadata": {},
   "source": [
    "A random forest is a meta estimator that fits a number of classifying decision trees on various sub-samples of the dataset and use averaging to improve the predictive accuracy and control over-fitting."
   ]
  },
  {
   "cell_type": "code",
   "execution_count": 372,
   "metadata": {},
   "outputs": [],
   "source": [
    "pipe = Pipeline(steps=[('preprocess', preprocess_pipeline), \n",
    "                       ('reduce_dim', 'passthrough'),\n",
    "                       ('regresson', RandomForestRegressor(n_estimators=10))])"
   ]
  },
  {
   "cell_type": "markdown",
   "metadata": {},
   "source": [
    "In the above cell we create the pipeline for our **preprocessing**, **dimensionality reduction** and **model training**."
   ]
  },
  {
   "cell_type": "code",
   "execution_count": 373,
   "metadata": {},
   "outputs": [
    {
     "name": "stdout",
     "output_type": "stream",
     "text": [
      "Best CV score = 0.534:\n",
      "Best parameters:  {'reduce_dim': FeatureAgglomeration(n_clusters=6), 'reduce_dim__n_clusters': 6}\n"
     ]
    }
   ],
   "source": [
    "N_FEATURES_OPTIONS = [2, 6, 11]\n",
    "MAX_DEPTH_OPTIONS = [2, 4, 6, 8]\n",
    "\n",
    "param_grid = [\n",
    "    {\n",
    "        'reduce_dim': [PCA(iterated_power=7)],\n",
    "        'reduce_dim__n_components': N_FEATURES_OPTIONS,\n",
    "        'regresson__max_depth': MAX_DEPTH_OPTIONS\n",
    "    },\n",
    "    {\n",
    "        'reduce_dim': [RFE(svm.SVR(kernel='linear', gamma='auto')),RFE(LinearRegression())],\n",
    "        'reduce_dim__n_features_to_select': N_FEATURES_OPTIONS,\n",
    "        'regresson__max_depth': MAX_DEPTH_OPTIONS\n",
    "    },\n",
    "    {\n",
    "        'reduce_dim': [cluster.FeatureAgglomeration()],\n",
    "        'reduce_dim__n_clusters': N_FEATURES_OPTIONS,\n",
    "    },\n",
    "    {\n",
    "        'reduce_dim': [LinearDiscriminantAnalysis()],\n",
    "        'reduce_dim__n_components': N_FEATURES_OPTIONS,\n",
    "    },\n",
    "    {\n",
    "        'reduce_dim': [NeighborhoodComponentsAnalysis(random_state=0)],\n",
    "        'reduce_dim__n_components': N_FEATURES_OPTIONS,\n",
    "    }\n",
    "]\n",
    "\n",
    "search = GridSearchCV(pipe, param_grid, n_jobs=-1, cv=5, refit=True)\n",
    "search.fit(X_train, y_train)\n",
    "\n",
    "print(\"Best CV score = %0.3f:\" % search.best_score_)\n",
    "print(\"Best parameters: \", search.best_params_)\n",
    "\n",
    "# store the best params and best model for later use\n",
    "RF_best_params = search.best_params_\n",
    "RF_best_model = search.best_estimator_"
   ]
  },
  {
   "cell_type": "markdown",
   "metadata": {},
   "source": [
    "The above output shows the **cross validation** score for the `RandomForestRegressor` model and the best parameters for the model.\n",
    "\n",
    "The parameter `refit=True` makes the `GridSearchCV` train a `RandomForestRegressor` model on the **whole training set** with the best parameters and the best dimensionality reduction method found. This best model can then be accessed via the `.best_estimator_` attribute of the `GridSearchCV`."
   ]
  },
  {
   "cell_type": "markdown",
   "metadata": {},
   "source": [
    "#### Linear Regression Pipeline"
   ]
  },
  {
   "cell_type": "markdown",
   "metadata": {},
   "source": [
    "**Linear Regression** fits a linear model with coefficients to minimize the residual sum of squares between the observed targets in the dataset, and the targets predicted by the linear approximation."
   ]
  },
  {
   "cell_type": "code",
   "execution_count": 374,
   "metadata": {},
   "outputs": [],
   "source": [
    "pipe = Pipeline(steps=[('preprocess', preprocess_pipeline), \n",
    "                       ('reduce_dim', 'passthrough'),\n",
    "                       ('regresson', LinearRegression())])"
   ]
  },
  {
   "cell_type": "markdown",
   "metadata": {},
   "source": [
    "In the above cell we create the pipeline for our **preprocessing**, **dimensionality reduction** and **model training**."
   ]
  },
  {
   "cell_type": "code",
   "execution_count": 375,
   "metadata": {},
   "outputs": [
    {
     "name": "stdout",
     "output_type": "stream",
     "text": [
      "Best CV score = 0.048:\n",
      "Best parameters:  {'reduce_dim': LinearDiscriminantAnalysis(n_components=2), 'reduce_dim__n_components': 2}\n"
     ]
    }
   ],
   "source": [
    "N_FEATURES_OPTIONS = [2, 6, 11]\n",
    "NORMALIZE_OPTIONS = [False, True]\n",
    "\n",
    "param_grid = [\n",
    "    {\n",
    "        'reduce_dim': [PCA(iterated_power=7)],\n",
    "        'reduce_dim__n_components': N_FEATURES_OPTIONS,\n",
    "        'regresson__normalize': NORMALIZE_OPTIONS\n",
    "    },\n",
    "    {\n",
    "        'reduce_dim': [RFE(svm.SVR(kernel='linear', gamma='auto')),RFE(LinearRegression())],\n",
    "        'reduce_dim__n_features_to_select': N_FEATURES_OPTIONS,\n",
    "        'regresson__normalize': NORMALIZE_OPTIONS\n",
    "    },\n",
    "    {\n",
    "        'reduce_dim': [cluster.FeatureAgglomeration()],\n",
    "        'reduce_dim__n_clusters': N_FEATURES_OPTIONS,\n",
    "    },\n",
    "    {\n",
    "        'reduce_dim': [LinearDiscriminantAnalysis()],\n",
    "        'reduce_dim__n_components': N_FEATURES_OPTIONS,\n",
    "    },\n",
    "    {\n",
    "        'reduce_dim': [NeighborhoodComponentsAnalysis(random_state=0)],\n",
    "        'reduce_dim__n_components': N_FEATURES_OPTIONS,\n",
    "    }\n",
    "]\n",
    "\n",
    "search = GridSearchCV(pipe, param_grid, n_jobs=-1, cv=5, refit=True)\n",
    "search.fit(X_train, y_train)\n",
    "print(\"Best CV score = %0.3f:\" % search.best_score_)\n",
    "print(\"Best parameters: \", search.best_params_)\n",
    "\n",
    "# store the best params and best model for later use\n",
    "LR_best_params = search.best_params_\n",
    "LR_best_model = search.best_estimator_"
   ]
  },
  {
   "cell_type": "markdown",
   "metadata": {},
   "source": [
    "The above output shows the **cross validation** score for the `LinearRegression` model and the best parameters for the model.\n"
   ]
  },
  {
   "cell_type": "markdown",
   "metadata": {},
   "source": [
    "#### SVR Pipeline"
   ]
  },
  {
   "cell_type": "markdown",
   "metadata": {},
   "source": [
    "**Support vector regression (SVR)** is characterized by the use of kernels, sparse solution, and VC control of the margin and the number of support vectors. **SVR** has been proven to be an effective tool in real-value function estimation."
   ]
  },
  {
   "cell_type": "code",
   "execution_count": 376,
   "metadata": {},
   "outputs": [],
   "source": [
    "pipe = Pipeline(steps=[('preprocess', preprocess_pipeline), \n",
    "                       ('reduce_dim', 'passthrough'),\n",
    "                       ('regresson', SVR())])"
   ]
  },
  {
   "cell_type": "markdown",
   "metadata": {},
   "source": [
    "In the above cell we create the pipeline for our **preprocessing**, **dimensionality reduction** and **model training**."
   ]
  },
  {
   "cell_type": "code",
   "execution_count": null,
   "metadata": {},
   "outputs": [],
   "source": [
    "N_FEATURES_OPTIONS = [2, 6, 11]\n",
    "DEGREE = [1, 2, 3]\n",
    "\n",
    "param_grid = [\n",
    "    {\n",
    "        'reduce_dim': [PCA(iterated_power=7)],\n",
    "        'reduce_dim__n_components': N_FEATURES_OPTIONS,\n",
    "        'regresson__degree': DEGREE,\n",
    "    },\n",
    "    {\n",
    "        'reduce_dim': [RFE(svm.SVR(kernel='linear', gamma='auto')),RFE(LinearRegression())],\n",
    "        'reduce_dim__n_features_to_select': N_FEATURES_OPTIONS,\n",
    "        'regresson__degree': DEGREE,\n",
    "    },\n",
    "    {\n",
    "        'reduce_dim': [cluster.FeatureAgglomeration()],\n",
    "        'reduce_dim__n_clusters': N_FEATURES_OPTIONS,\n",
    "        'regresson__degree': DEGREE,\n",
    "    },\n",
    "    {\n",
    "        'reduce_dim': [LinearDiscriminantAnalysis()],\n",
    "        'reduce_dim__n_components': N_FEATURES_OPTIONS,\n",
    "        'regresson__degree': DEGREE,\n",
    "    },\n",
    "    {\n",
    "        'reduce_dim': [NeighborhoodComponentsAnalysis(random_state=0)],\n",
    "        'reduce_dim__n_components': N_FEATURES_OPTIONS,\n",
    "        'regresson__degree': DEGREE,\n",
    "    }\n",
    "]\n",
    "\n",
    "search = GridSearchCV(pipe, param_grid, n_jobs=-1, cv=5, refit=True)\n",
    "search.fit(X_train, y_train)\n",
    "print(\"Best CV score = %0.3f:\" % search.best_score_)\n",
    "print(\"Best parameters: \", search.best_params_)\n",
    "\n",
    "# store the best params and best model for later use\n",
    "SVR_best_params = search.best_params_\n",
    "SVR_best_model = search.best_estimator_"
   ]
  },
  {
   "cell_type": "markdown",
   "metadata": {},
   "source": [
    "The above output shows the **cross validation** score for the `SVR` model and the best parameters for the model."
   ]
  },
  {
   "cell_type": "markdown",
   "metadata": {},
   "source": [
    "## Part 5: Comparison and Evaluation of Regression Models"
   ]
  },
  {
   "cell_type": "code",
   "execution_count": 378,
   "metadata": {},
   "outputs": [],
   "source": [
    "# model - a trained regression model\n",
    "\n",
    "def evaluate_model(X_test, y_test, model):\n",
    "    \n",
    "    # compute predictiond for the test set\n",
    "    _predicted_values = model.predict(X_test)\n",
    "        \n",
    "    # compute metrics\n",
    "    _mse = mean_squared_error(y_test, _predicted_values)\n",
    "    _mae = mean_absolute_error(y_test, _predicted_values)\n",
    "    _r2 = r2_score(y_test, _predicted_values)\n",
    "            \n",
    "    return _mse, _mae, _r2"
   ]
  },
  {
   "cell_type": "markdown",
   "metadata": {},
   "source": [
    "The above method is used for evaluating the best models found by the grid search on the test dataset and compare their metrics. The method takes in a model as well as the _x_test_ and _y_test_ and returns:\n",
    "\n",
    "- The Mean Squared Error (MSE)\n",
    "- The Mean Absolute Error (MAE)\n",
    "- 1 Relative Squared Error (R2)\n",
    "\n",
    "These metrics will then be used to choose which regression model is the best for the problem domain."
   ]
  },
  {
   "cell_type": "code",
   "execution_count": 379,
   "metadata": {},
   "outputs": [],
   "source": [
    "RF_mse, RF_mae, RF_r2 = evaluate_model(X_test, y_test, RF_best_model)\n",
    "LR_mse, LR_mae, LR_r2 = evaluate_model(X_test, y_test, LR_best_model)\n",
    "SVR_mse, SVR_mae, SVR_r2 = evaluate_model(X_test, y_test, LR_best_model)"
   ]
  },
  {
   "cell_type": "markdown",
   "metadata": {},
   "source": [
    "We use the above function to compute the **MSE**, **MAE**, and **R2** for each of the best models (**Linear Regression**, **Random Forest Regressor** and **SVR**) produced by the grid search."
   ]
  },
  {
   "cell_type": "code",
   "execution_count": 380,
   "metadata": {},
   "outputs": [
    {
     "data": {
      "image/png": "[encoded data removed]",
      "text/plain": [
       "<Figure size 1440x360 with 3 Axes>"
      ]
     },
     "metadata": {
      "needs_background": "light"
     },
     "output_type": "display_data"
    }
   ],
   "source": [
    "# Create Pandas Barplots\n",
    "df_mse = pd.DataFrame({'Random Forest': RF_mse, 'Linear Regression': LR_mse, 'SVR': SVR_mse}, index=['MSE'])\n",
    "df_mae = pd.DataFrame({'Random Forest': RF_mae, 'Linear Regression': LR_mae, 'SVR': SVR_mae}, index=['MAE'])\n",
    "df_r2 = pd.DataFrame({'Random Forest': RF_r2, 'Linear Regression': LR_r2, 'SVR': SVR_r2}, index=['R2'])\n",
    "\n",
    "fig, axes = plt.subplots(nrows=1, ncols=3, figsize=(20, 5))\n",
    "\n",
    "df_mse.plot.bar(rot=0, ax=axes[0])\n",
    "df_mae.plot.bar(rot=0, ax=axes[1])\n",
    "df_r2.plot.bar(rot=0, ax=axes[2])\n",
    "\n",
    "plt.show()"
   ]
  },
  {
   "cell_type": "markdown",
   "metadata": {},
   "source": [
    "This tests confirms that Random Forest is the better regression model with lower MSE and MAE and higher R2 than the other two models. The MSE and MAE values tell us how far apart our predicted values are from the actual values, with a higher MSE and MAE meaning that the model is worse. The R2 score is however different as it tells about the goodness of fit of a model and so the higher the R2 the better the model. For these reasons the **Random Forest Regressor** can be seen as the best of the 3 models.\n",
    "\n",
    "However, the **Linear Regression** and **SVR** both perform comparatibly, achieving the same scores for MSE, MAE and R2 as can be seen in the 3 plots above."
   ]
  },
  {
   "cell_type": "markdown",
   "metadata": {},
   "source": [
    "## Part 6: Train a Final Model"
   ]
  },
  {
   "cell_type": "code",
   "execution_count": 381,
   "metadata": {},
   "outputs": [],
   "source": [
    "# function to remove the string 'regresson__' from the names of the best parameters\n",
    "def transform(dict, prefix):\n",
    "    dict_prefix = {key:value for key,value in dict.items() if prefix in key}\n",
    "    return {key.replace(prefix,''):value for key,value in dict_prefix.items()}\n",
    "\n",
    "pipe = make_pipeline(preprocess_pipeline, \n",
    "                     RF_best_params.get('reduce_dim'),\n",
    "                     RandomForestRegressor(n_estimators=10, **transform(RF_best_params, 'regresson__')))\n",
    "\n",
    "final_model =pipe.fit(X, y)"
   ]
  },
  {
   "cell_type": "markdown",
   "metadata": {},
   "source": [
    "Finally, we can train an Random Forest Regressor model with all data we have, assuming that the more data we have the better the model."
   ]
  },
  {
   "cell_type": "code",
   "execution_count": 382,
   "metadata": {},
   "outputs": [],
   "source": [
    "filename = 'final_model.sav'\n",
    "pickle.dump(final_model, open(filename, 'wb'))"
   ]
  },
  {
   "cell_type": "markdown",
   "metadata": {},
   "source": [
    "We can also store this model on disk."
   ]
  }
 ],
 "metadata": {
  "kernelspec": {
   "display_name": "Python 3",
   "language": "python",
   "name": "python3"
  },
  "language_info": {
   "codemirror_mode": {
    "name": "ipython",
    "version": 3
   },
   "file_extension": ".py",
   "mimetype": "text/x-python",
   "name": "python",
   "nbconvert_exporter": "python",
   "pygments_lexer": "ipython3",
   "version": "3.8.5"
  }
 },
 "nbformat": 4,
 "nbformat_minor": 2
}
